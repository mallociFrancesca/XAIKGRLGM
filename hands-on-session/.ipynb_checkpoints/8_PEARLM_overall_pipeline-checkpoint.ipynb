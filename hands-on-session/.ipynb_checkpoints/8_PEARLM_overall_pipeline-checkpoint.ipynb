{
 "cells": [
  {
   "cell_type": "markdown",
   "metadata": {
    "id": "_gaXKC6K3b7J"
   },
   "source": [
    "# PEARLM: Overall Explainable Pipeline"
   ]
  },
  {
   "cell_type": "markdown",
   "metadata": {
    "id": "CIMeJaE53b7L"
   },
   "source": [
    "In this notebook, you will learn how to  train and evaluate the PEARLM model [[1]](#r1).\n",
    "\n",
    "You will:\n",
    "* 1️⃣ Train the model;\n",
    "* 2️⃣ Evaluate the model;\n",
    "* 3️⃣ Generate recommendations and explanations."
   ]
  },
  {
   "cell_type": "markdown",
   "metadata": {
    "id": "z0M6APxN3b7L",
    "jp-MarkdownHeadingCollapsed": true
   },
   "source": [
    "## ⚙️ Setup Workspace"
   ]
  },
  {
   "cell_type": "markdown",
   "metadata": {
    "id": "QTAcmTLnGDji"
   },
   "source": [
    "1. Import the necessary module to access Google Drive from Colab and mount you Google Drive to the Colab enviroment. This allows you to access files and folders stored in your Google Drive"
   ]
  },
  {
   "cell_type": "code",
   "execution_count": 15,
   "metadata": {
    "colab": {
     "base_uri": "https://localhost:8080/"
    },
    "id": "X5B3aqiR3b7M",
    "outputId": "872d4878-14a8-4e93-8ab0-d55a79d71216"
   },
   "outputs": [
    {
     "name": "stdout",
     "output_type": "stream",
     "text": [
      "Mounted at /content/drive\n"
     ]
    }
   ],
   "source": [
    "from google.colab import drive\n",
    "drive.mount('/content/drive', force_remount=True)"
   ]
  },
  {
   "cell_type": "markdown",
   "metadata": {
    "id": "8c5hnTnSGGXq"
   },
   "source": [
    "2. Install the `hopwise` libray"
   ]
  },
  {
   "cell_type": "code",
   "execution_count": 16,
   "metadata": {
    "id": "NmL4l2JM34p2"
   },
   "outputs": [],
   "source": [
    "%%capture\n",
    "!uv pip install hopwise[pathlm,cli]\n",
    "# !uv pip install transformers==4.53.2"
   ]
  },
  {
   "cell_type": "markdown",
   "metadata": {
    "id": "wAMhK7_CGLA7"
   },
   "source": [
    "3.  To view the installed libraries in the right sidebar, run the following command:"
   ]
  },
  {
   "cell_type": "code",
   "execution_count": null,
   "metadata": {
    "id": "QN5XaNxTGMk7"
   },
   "outputs": [],
   "source": [
    "!ln -s /usr/local/lib/python3.11/dist-packages /content/dist-packages"
   ]
  },
  {
   "cell_type": "markdown",
   "metadata": {
    "id": "gYFGOCvuGOHK"
   },
   "source": [
    "4. To check if you are using the GPU, run the following code:"
   ]
  },
  {
   "cell_type": "code",
   "execution_count": null,
   "metadata": {
    "colab": {
     "base_uri": "https://localhost:8080/"
    },
    "id": "NuTZOdMaGTbt",
    "outputId": "f302805c-d3c2-4e25-ffd9-1512955a987b"
   },
   "outputs": [
    {
     "name": "stdout",
     "output_type": "stream",
     "text": [
      "CUDA Device ID: 0\n",
      "CUDA Device Name: Tesla T4\n"
     ]
    }
   ],
   "source": [
    "import torch\n",
    "if torch.cuda.is_available():\n",
    "    device_id = torch.cuda.current_device()\n",
    "    device_name = torch.cuda.get_device_name(device_id)\n",
    "    print(f\"CUDA Device ID: {device_id}\")\n",
    "    print(f\"CUDA Device Name: {device_name}\")\n",
    "else:\n",
    "    print(\"No CUDA device is available.\")"
   ]
  },
  {
   "cell_type": "markdown",
   "metadata": {
    "id": "QpQftE8p3b7M",
    "jp-MarkdownHeadingCollapsed": true
   },
   "source": [
    "## 📝 Introduction"
   ]
  },
  {
   "cell_type": "markdown",
   "metadata": {
    "id": "vd1Wdqze3b7M"
   },
   "source": [
    "<div style=\"background-color:#f0f4f8; border-left: 5px solid #4a90e2; padding:15px; margin:10px 0; border-radius:8px;\">\n",
    "<strong> PEARLM </strong> is a path-language-modeling recommender. It learns the sequence of entity-relation triplets from a knowledge graph as a next-token prediction task.</div>"
   ]
  },
  {
   "cell_type": "markdown",
   "metadata": {
    "id": "J5I7Kq6FebnD"
   },
   "source": [
    "<img src=\"https://raw.githubusercontent.com/mallociFrancesca/XAIKGRLGM/a77f9ea5633475efe43038ef2a11e1341342e0ef/hands-on-session/pearlm-arch.png\" alt=\"PEARLM Architecture\" width=\"900\" height=\"200\">"
   ]
  },
  {
   "cell_type": "markdown",
   "metadata": {
    "id": "IXI7KqrR3b7N",
    "jp-MarkdownHeadingCollapsed": true
   },
   "source": [
    "## 📦 Packages"
   ]
  },
  {
   "cell_type": "code",
   "execution_count": null,
   "metadata": {
    "id": "Kyw3m4d-3b7N"
   },
   "outputs": [],
   "source": [
    "import os\n",
    "import pandas as pd\n",
    "import torch\n",
    "from hopwise.quick_start import run_hopwise"
   ]
  },
  {
   "cell_type": "markdown",
   "metadata": {
    "id": "687Ds0b43b7N"
   },
   "source": [
    "## 1️⃣ Training"
   ]
  },
  {
   "cell_type": "markdown",
   "metadata": {
    "id": "RgqxsDta3b7N"
   },
   "source": [
    "To train the model, we first need to define the configuration parameters for both the model architecture and the training pipeline."
   ]
  },
  {
   "cell_type": "markdown",
   "metadata": {
    "id": "CsnZ1qaz3b7N"
   },
   "source": [
    "Using Hopwise, you can configure the model in one of the following ways:\n",
    "\n",
    "- **Python Dictionary configuration**: provide the settings directly using a Python dictionary.\n",
    "- **YAML configuration**: load settings from a `.yaml` file.\n",
    "- **Default configuration**: use the predefined configuration available at: [hopwise/properties/model/PEARLM.yaml](https://github.com/tail-unica/hopwise/blob/main/hopwise/properties/model/PEARLM.yaml)"
   ]
  },
  {
   "cell_type": "markdown",
   "metadata": {
    "id": "YoSLJ_IC3b7N"
   },
   "source": [
    "**Configuration**"
   ]
  },
  {
   "cell_type": "code",
   "execution_count": null,
   "metadata": {
    "id": "hC245pwD3b7O"
   },
   "outputs": [],
   "source": [
    "# Python Dictionary\n",
    "config_dict = {\n",
    "\n",
    "     #--- General Settings ---#\n",
    "    'epochs': 1,  # Total number of epochs for training the model\n",
    "    'show_progress': True,  # Whether to display the progress bar during training and evaluation\n",
    "    'data_path': '/content/drive/MyDrive/XAIKGRLGM/hands-on-session/data/dataset/',  # Path to the dataset\n",
    "    'checkpoint_dir':'/content/drive/MyDrive/XAIKGRLGM/hands-on-session/data/checkpoint/',  # Directory to save model checkpoints\n",
    "\n",
    "    #--- Architecture Model Settings ---#\n",
    "    'embedding_size': 4,               # (int) Size of the embeddings.\n",
    "    'num_heads': 2,                    # (int) Number of heads in the multi-head attention. 8,12,16\n",
    "    'num_layers': 2,                   # (int) Number of layers in the transformer.\n",
    "    'use_kg_token_types': True,        # (bool) Whether to use token types for the knowledge graph.\n",
    "\n",
    "    #--- Path Settings ---#\n",
    "    'path_sample_args': {\n",
    "        'strategy': 'constrained-rw',  # Strategy for sampling paths, e.g., constrained random walk.\n",
    "        'parallel_max_workers': 0      # Maximum number of workers for parallel processing (0 means sequential execution).\n",
    "    },\n",
    "\n",
    "    'path_generation_args': {\n",
    "        'paths_per_user': 5,           # (int) Number of paths generated per user.\n",
    "        'num_beams': 8,                # (int) Number of beams for beam search.\n",
    "        'num_beam_groups': 2           # (int) Number of groups for diverse beam search.\n",
    "    },\n",
    "\n",
    "    #--- Metrics Settings ---#\n",
    "    'metrics': [\n",
    "        'NDCG',\n",
    "        'MRR',\n",
    "        'Hit',\n",
    "        'Precision',\n",
    "        'Recall',\n",
    "    ]\n",
    "\n",
    "}"
   ]
  },
  {
   "cell_type": "markdown",
   "metadata": {
    "id": "q5WNqOfK3b7O"
   },
   "source": [
    "🔁 **Train**"
   ]
  },
  {
   "cell_type": "markdown",
   "metadata": {
    "id": "xEUm3aOU3b7O"
   },
   "source": [
    "Now, we are ready to train the model using the `run_hopwise()` function.\n",
    "\n",
    "⚠️ We already **trained** it. So you **don't need** to run this command now."
   ]
  },
  {
   "cell_type": "code",
   "execution_count": null,
   "metadata": {
    "id": "f-9V2fC83b7O"
   },
   "outputs": [],
   "source": [
    "model = 'PEARLM'\n",
    "dataset = 'ml-100k'"
   ]
  },
  {
   "cell_type": "code",
   "execution_count": null,
   "metadata": {
    "colab": {
     "base_uri": "https://localhost:8080/",
     "height": 639,
     "referenced_widgets": [
      "cfb11f4ea8fb400e8ee149b27b38f665",
      "9d4782f684944bf0be8eb1554741cbb8",
      "7bc1b8978dd948f6accbe651a9d4be28",
      "bb59f86443854ca3a383ec5b3b1d6d51",
      "6e2a7f448b20480abfaab6a4cb2fb344",
      "904adada820a4a9f956d99194ac96112",
      "bc8a4b662c1640ac8677526179c73d43",
      "0a42ff78edf94227a34fee925f1c9ca6",
      "06ed7e87babc41f68f3b9a6c56a943c5",
      "676794160e164180a3144b8e4cbfbd55",
      "029ebf919c8b4e92881735dd3c7c828f",
      "d3df9c1b41cf46a197df316e43998628",
      "0ee8b001831b4d69ba7d2d098ca6b66b",
      "d8ece660fa504eb1a71ef07d61f62515",
      "8c8a7983eba647a1a8b45616b0ef0cb8",
      "90da8e8b918044b4957c4c4e6b366fd5",
      "bf38fbb740e244d2abec608710340358",
      "4b19e58ee7df4a0ca0ac0b71e28f2f13",
      "70922e9c4e8541b9b58c4a51d3cc005e"
     ]
    },
    "id": "p5TiRHAJ3b7O",
    "outputId": "b94130ba-4308-47bf-cbb3-721c7f91b660",
    "scrolled": true
   },
   "outputs": [
    {
     "name": "stderr",
     "output_type": "stream",
     "text": [
      "/usr/local/lib/python3.11/dist-packages/hopwise/utils/logger.py:44: TqdmExperimentalWarning: rich is experimental/alpha\n",
      "  return self.progress_bar(*args, **kwargs)\n"
     ]
    },
    {
     "data": {
      "application/vnd.jupyter.widget-view+json": {
       "model_id": "cfb11f4ea8fb400e8ee149b27b38f665",
       "version_major": 2,
       "version_minor": 0
      },
      "text/plain": [
       "Output()"
      ]
     },
     "metadata": {},
     "output_type": "display_data"
    },
    {
     "data": {
      "text/html": [
       "<pre style=\"white-space:pre;overflow-x:auto;line-height:normal;font-family:Menlo,'DejaVu Sans Mono',consolas,'Courier New',monospace\"></pre>\n"
      ],
      "text/plain": []
     },
     "metadata": {},
     "output_type": "display_data"
    },
    {
     "name": "stderr",
     "output_type": "stream",
     "text": [
      "/usr/local/lib/python3.11/dist-packages/huggingface_hub/utils/_auth.py:94: UserWarning: \n",
      "The secret `HF_TOKEN` does not exist in your Colab secrets.\n",
      "To authenticate with the Hugging Face Hub, create a token in your settings tab (https://huggingface.co/settings/tokens), set it as secret in your Google Colab and restart your session.\n",
      "You will be able to reuse this secret in all of your notebooks.\n",
      "Please note that authentication is recommended but still optional to access public models or datasets.\n",
      "  warnings.warn(\n"
     ]
    },
    {
     "data": {
      "application/vnd.jupyter.widget-view+json": {
       "model_id": "7bc1b8978dd948f6accbe651a9d4be28",
       "version_major": 2,
       "version_minor": 0
      },
      "text/plain": [
       "config.json:   0%|          | 0.00/762 [00:00<?, ?B/s]"
      ]
     },
     "metadata": {},
     "output_type": "display_data"
    },
    {
     "name": "stderr",
     "output_type": "stream",
     "text": [
      "The new embeddings will be initialized from a multivariate normal distribution that has old embeddings' mean and covariance. As described in this article: https://nlp.stanford.edu/~johnhew/vocab-expansion.html. To disable this, use `mean_resizing=False`\n",
      "/usr/local/lib/python3.11/dist-packages/hopwise/utils/logger.py:44: TqdmExperimentalWarning: rich is experimental/alpha\n",
      "  return self.progress_bar(*args, **kwargs)\n"
     ]
    },
    {
     "data": {
      "application/vnd.jupyter.widget-view+json": {
       "model_id": "d8ece660fa504eb1a71ef07d61f62515",
       "version_major": 2,
       "version_minor": 0
      },
      "text/plain": [
       "Output()"
      ]
     },
     "metadata": {},
     "output_type": "display_data"
    },
    {
     "data": {
      "text/html": [
       "<pre style=\"white-space:pre;overflow-x:auto;line-height:normal;font-family:Menlo,'DejaVu Sans Mono',consolas,'Courier New',monospace\"></pre>\n"
      ],
      "text/plain": []
     },
     "metadata": {},
     "output_type": "display_data"
    },
    {
     "name": "stderr",
     "output_type": "stream",
     "text": [
      "/usr/local/lib/python3.11/dist-packages/hopwise/utils/logger.py:44: TqdmExperimentalWarning: rich is experimental/alpha\n",
      "  return self.progress_bar(*args, **kwargs)\n"
     ]
    },
    {
     "data": {
      "application/vnd.jupyter.widget-view+json": {
       "model_id": "90da8e8b918044b4957c4c4e6b366fd5",
       "version_major": 2,
       "version_minor": 0
      },
      "text/plain": [
       "Output()"
      ]
     },
     "metadata": {},
     "output_type": "display_data"
    },
    {
     "name": "stderr",
     "output_type": "stream",
     "text": [
      "Group Beam Search is scheduled to be moved to a `custom_generate` repository in v4.55.0. To prevent loss of backward compatibility, add `trust_remote_code=True` to your `generate` call.\n"
     ]
    },
    {
     "data": {
      "text/html": [
       "<pre style=\"white-space:pre;overflow-x:auto;line-height:normal;font-family:Menlo,'DejaVu Sans Mono',consolas,'Courier New',monospace\"></pre>\n"
      ],
      "text/plain": []
     },
     "metadata": {},
     "output_type": "display_data"
    },
    {
     "name": "stderr",
     "output_type": "stream",
     "text": [
      "There were missing keys in the checkpoint model loaded: ['lm_head.weight'].\n",
      "There were missing keys in the checkpoint model loaded: ['lm_head.weight'].\n",
      "/usr/local/lib/python3.11/dist-packages/hopwise/utils/logger.py:44: TqdmExperimentalWarning: rich is experimental/alpha\n",
      "  return self.progress_bar(*args, **kwargs)\n"
     ]
    },
    {
     "data": {
      "application/vnd.jupyter.widget-view+json": {
       "model_id": "4b19e58ee7df4a0ca0ac0b71e28f2f13",
       "version_major": 2,
       "version_minor": 0
      },
      "text/plain": [
       "Output()"
      ]
     },
     "metadata": {},
     "output_type": "display_data"
    },
    {
     "data": {
      "text/html": [
       "<pre style=\"white-space:pre;overflow-x:auto;line-height:normal;font-family:Menlo,'DejaVu Sans Mono',consolas,'Courier New',monospace\"></pre>\n"
      ],
      "text/plain": []
     },
     "metadata": {},
     "output_type": "display_data"
    },
    {
     "data": {
      "text/plain": [
       "{'best_valid_score': np.float64(0.0103),\n",
       " 'valid_score_bigger': True,\n",
       " 'best_valid_result': OrderedDict([('recall@10', np.float64(0.0113)),\n",
       "              ('mrr@10', np.float64(0.0193)),\n",
       "              ('ndcg@10', np.float64(0.0103)),\n",
       "              ('hit@10', np.float64(0.0923)),\n",
       "              ('precision@10', np.float64(0.0101))]),\n",
       " 'test_result': OrderedDict([('recall@10', np.float64(0.0081)),\n",
       "              ('mrr@10', np.float64(0.0163)),\n",
       "              ('ndcg@10', np.float64(0.0081)),\n",
       "              ('hit@10', np.float64(0.0817)),\n",
       "              ('precision@10', np.float64(0.0083))])}"
      ]
     },
     "execution_count": 10,
     "metadata": {},
     "output_type": "execute_result"
    }
   ],
   "source": [
    "run_hopwise(model= model,\n",
    "            dataset= dataset,\n",
    "            config_dict=config_dict)"
   ]
  },
  {
   "cell_type": "markdown",
   "metadata": {
    "id": "WzyXBM6T3b7O"
   },
   "source": [
    "💾 **Saving Model Outputs**"
   ]
  },
  {
   "cell_type": "markdown",
   "metadata": {
    "id": "_QFvvfp-3b7O"
   },
   "source": [
    "By default, the trained model checkpoint will be saved in the `hopwise/saved` directory as a `.pth` file. The filename includes the model name and a timestamp, following this format:\n",
    "\n",
    "`PEARLM-Month-day-year_timestamp.pth`"
   ]
  },
  {
   "cell_type": "markdown",
   "metadata": {
    "id": "5_gXXLHM3b7O"
   },
   "source": [
    "If you need to change the output directory, you have two options:\n",
    "\n",
    "1. **Override it dynamically** using the `checkpoint_dir` parameter in your configuration dictionary.\n",
    "2. **Modify the default path** in the global config file:  \n",
    "   📄 [hopwise/properties/overall.yaml](https://github.com/tail-unica/hopwise/blob/main/hopwise/properties/overall.yaml)"
   ]
  },
  {
   "cell_type": "markdown",
   "metadata": {
    "id": "3Nhz2gVh3b7O"
   },
   "source": [
    "## 2️⃣ Evaluation"
   ]
  },
  {
   "cell_type": "markdown",
   "metadata": {
    "id": "yIeg7oYG3b7O"
   },
   "source": [
    "To evaluate the model trought different [metrics](https://github.com/tail-unica/hopwise/blob/main/hopwise/evaluator/metrics.py) (read the entire list from `hopwise/evaluator/metrics.py`) , execute the `run_hopwise` function and specify the saved checkpoint."
   ]
  },
  {
   "cell_type": "code",
   "execution_count": null,
   "metadata": {
    "id": "oP2D1a0j3b7O"
   },
   "outputs": [],
   "source": [
    "# import libraries\n",
    "from hopwise.quick_start import run_hopwise\n",
    "\n",
    "# saved checkpoint\n",
    "hopwise_checkpoint = '/content/drive/MyDrive/XAIKGRLGM/hands-on-session/data/checkpoint/hopwise-distilgpt2-PEARLM-Jul-15-2025_06-30-29.pth'"
   ]
  },
  {
   "cell_type": "code",
   "execution_count": null,
   "metadata": {
    "colab": {
     "base_uri": "https://localhost:8080/",
     "height": 535,
     "referenced_widgets": [
      "f94a0b83095040c1b96ab567557c6b96",
      "2e0d2d058dfd434596b588a67a3e6568",
      "99c9d850c9304203b6238772d85d9122",
      "01199074d56a4560af100d7ffef7c0ae",
      "6004a0fed3b145be94ad196c8e01c4a0",
      "5e74ca2587544135a00a8e629b6254ef",
      "0ad6efebac6d423f800817b603986fd0",
      "df7225636d3a497ab727a1fb7cebb058",
      "ce2c40e1d6e540449c2396e29d2d1cad",
      "1504f7889b98489797fc140ccad92332",
      "93b11fd7b0b74064a62f310d4d7b67af",
      "405e8855594b45858885efae250f676a",
      "671a4f875291411fb8166dffe63b9513",
      "8e31e6b2a6d342adb264e85ca0e798ea",
      "cf532b440a8c4185a403226c06a1304a",
      "4a5147d806984fbe9505466aa813fb5e",
      "5ebff7f62fdf4f54b6b6dfc999d1c022"
     ]
    },
    "id": "M4BvOjxs3b7O",
    "outputId": "e7460190-4244-4120-98e0-951d3437c774",
    "scrolled": true
   },
   "outputs": [
    {
     "name": "stderr",
     "output_type": "stream",
     "text": [
      "/usr/local/lib/python3.11/dist-packages/hopwise/utils/logger.py:44: TqdmExperimentalWarning: rich is experimental/alpha\n",
      "  return self.progress_bar(*args, **kwargs)\n"
     ]
    },
    {
     "data": {
      "application/vnd.jupyter.widget-view+json": {
       "model_id": "f94a0b83095040c1b96ab567557c6b96",
       "version_major": 2,
       "version_minor": 0
      },
      "text/plain": [
       "Output()"
      ]
     },
     "metadata": {},
     "output_type": "display_data"
    },
    {
     "data": {
      "text/html": [
       "<pre style=\"white-space:pre;overflow-x:auto;line-height:normal;font-family:Menlo,'DejaVu Sans Mono',consolas,'Courier New',monospace\"></pre>\n"
      ],
      "text/plain": []
     },
     "metadata": {},
     "output_type": "display_data"
    },
    {
     "name": "stderr",
     "output_type": "stream",
     "text": [
      "/usr/local/lib/python3.11/dist-packages/huggingface_hub/utils/_auth.py:94: UserWarning: \n",
      "The secret `HF_TOKEN` does not exist in your Colab secrets.\n",
      "To authenticate with the Hugging Face Hub, create a token in your settings tab (https://huggingface.co/settings/tokens), set it as secret in your Google Colab and restart your session.\n",
      "You will be able to reuse this secret in all of your notebooks.\n",
      "Please note that authentication is recommended but still optional to access public models or datasets.\n",
      "  warnings.warn(\n"
     ]
    },
    {
     "data": {
      "application/vnd.jupyter.widget-view+json": {
       "model_id": "99c9d850c9304203b6238772d85d9122",
       "version_major": 2,
       "version_minor": 0
      },
      "text/plain": [
       "config.json:   0%|          | 0.00/762 [00:00<?, ?B/s]"
      ]
     },
     "metadata": {},
     "output_type": "display_data"
    },
    {
     "name": "stderr",
     "output_type": "stream",
     "text": [
      "The new embeddings will be initialized from a multivariate normal distribution that has old embeddings' mean and covariance. As described in this article: https://nlp.stanford.edu/~johnhew/vocab-expansion.html. To disable this, use `mean_resizing=False`\n",
      "/usr/local/lib/python3.11/dist-packages/hopwise/utils/logger.py:44: TqdmExperimentalWarning: rich is experimental/alpha\n",
      "  return self.progress_bar(*args, **kwargs)\n"
     ]
    },
    {
     "data": {
      "application/vnd.jupyter.widget-view+json": {
       "model_id": "8e31e6b2a6d342adb264e85ca0e798ea",
       "version_major": 2,
       "version_minor": 0
      },
      "text/plain": [
       "Output()"
      ]
     },
     "metadata": {},
     "output_type": "display_data"
    },
    {
     "name": "stderr",
     "output_type": "stream",
     "text": [
      "Group Beam Search is scheduled to be moved to a `custom_generate` repository in v4.55.0. To prevent loss of backward compatibility, add `trust_remote_code=True` to your `generate` call.\n"
     ]
    },
    {
     "data": {
      "text/html": [
       "<pre style=\"white-space:pre;overflow-x:auto;line-height:normal;font-family:Menlo,'DejaVu Sans Mono',consolas,'Courier New',monospace\"></pre>\n"
      ],
      "text/plain": []
     },
     "metadata": {},
     "output_type": "display_data"
    },
    {
     "data": {
      "application/vnd.jupyter.widget-view+json": {
       "model_id": "4a5147d806984fbe9505466aa813fb5e",
       "version_major": 2,
       "version_minor": 0
      },
      "text/plain": [
       "Output()"
      ]
     },
     "metadata": {},
     "output_type": "display_data"
    },
    {
     "data": {
      "text/html": [
       "<pre style=\"white-space:pre;overflow-x:auto;line-height:normal;font-family:Menlo,'DejaVu Sans Mono',consolas,'Courier New',monospace\"></pre>\n"
      ],
      "text/plain": []
     },
     "metadata": {},
     "output_type": "display_data"
    },
    {
     "data": {
      "text/plain": [
       "{'best_valid_score': np.float64(0.0103),\n",
       " 'valid_score_bigger': True,\n",
       " 'best_valid_result': OrderedDict([('ndcg@10', np.float64(0.0103)),\n",
       "              ('mrr@10', np.float64(0.0193)),\n",
       "              ('hit@10', np.float64(0.0923)),\n",
       "              ('precision@10', np.float64(0.0101)),\n",
       "              ('recall@10', np.float64(0.0113))]),\n",
       " 'test_result': OrderedDict([('ndcg@10', np.float64(0.0081)),\n",
       "              ('mrr@10', np.float64(0.0163)),\n",
       "              ('hit@10', np.float64(0.0817)),\n",
       "              ('precision@10', np.float64(0.0083)),\n",
       "              ('recall@10', np.float64(0.0081))])}"
      ]
     },
     "execution_count": 8,
     "metadata": {},
     "output_type": "execute_result"
    }
   ],
   "source": [
    "run_hopwise(model=model,\n",
    "            run='evaluate',\n",
    "            checkpoint= hopwise_checkpoint,\n",
    "            dataset= dataset,\n",
    "            config_dict=config_dict)"
   ]
  },
  {
   "cell_type": "markdown",
   "metadata": {
    "id": "wqFnq3Oe3b7O"
   },
   "source": [
    "## 3️⃣ Generate Explanations for Recommendations"
   ]
  },
  {
   "cell_type": "markdown",
   "metadata": {
    "id": "soIIx8f63b7P"
   },
   "source": [
    "In this section, we produce human-readable explanations for the recommended items.\n",
    "\n",
    "*  1️⃣ **Load the Trained Model**: Load the trained PEARLM model.\n",
    "\n",
    "*  2️⃣ **Generate Recommendations**: Use the model to generate recommendation (reasoning paths), guided by the KG constraints.\n",
    "\n",
    "*  3️⃣ **Generate Textual Explanations**: Transform the reasoning paths into natural language explanations using predefined templates.\n",
    "\n",
    "----\n"
   ]
  },
  {
   "cell_type": "markdown",
   "metadata": {
    "id": "fdGVSR9M3b7P"
   },
   "source": [
    "Import Libraries"
   ]
  },
  {
   "cell_type": "code",
   "execution_count": null,
   "metadata": {
    "id": "UZvrLoH33b7P"
   },
   "outputs": [],
   "source": [
    "#--- Load Packages ---#\n",
    "import os\n",
    "import pandas as pd\n",
    "from safetensors.torch import load_file\n",
    "from transformers import AutoTokenizer\n",
    "\n",
    "from hopwise.quick_start import load_data_and_model\n",
    "\n",
    "from hopwise.model.sequence_postprocessor import BeamSearchSequenceScorePostProcessor\n",
    "from hopwise.model.logits_processor import ConstrainedLogitsProcessorWordLevel, LogitsProcessorList\n",
    "\n",
    "from hopwise.utils.enum_type import KnowledgeEvaluationType, PathLanguageModelingTokenType"
   ]
  },
  {
   "cell_type": "markdown",
   "metadata": {
    "id": "mDYN3-Td3b7P"
   },
   "source": [
    "Define some auxiliary functions"
   ]
  },
  {
   "cell_type": "code",
   "execution_count": null,
   "metadata": {
    "id": "EL4x66oW3b7P"
   },
   "outputs": [],
   "source": [
    "def pre_process_input(users, tokenizer):\n",
    "    r\"\"\"\n",
    "    Prepares input strings for the PEARLM model from raw user IDs.\n",
    "\n",
    "    Args:\n",
    "        users (list of str): List of user IDs (e.g., [\"1\", \"2\"]).\n",
    "        tokenizer (transformers.PreTrainedTokenizer): HuggingFace tokenizer with BOS token.\n",
    "\n",
    "    Returns:\n",
    "        list of str: Tokenized input strings with user and relation tokens,\n",
    "                     e.g., [\"<BOS> U1 R25\", \"<BOS> U2 R25\"].\n",
    "    \"\"\"\n",
    "\n",
    "    # Create a special token representing the user-item interaction relation\n",
    "    # e.g., \"R25\" if 'buy' has token ID 25\n",
    "    ui_relation_token = f'{PathLanguageModelingTokenType.RELATION.token}{dataset.field2token_id[dataset.relation_field][dataset.ui_relation]}'\n",
    "\n",
    "    # Add prefix \"U\" to each user ID to match model token format (e.g., \"1\" → \"U1\")\n",
    "    users_token = [f'{PathLanguageModelingTokenType.USER.token}{user}' for user in users]\n",
    "\n",
    "    # Compose input strings for each user: \"<BOS> U1 R25\"\n",
    "    users = [f'{tokenizer.bos_token} {user} {ui_relation_token}' for user in users_token]\n",
    "    return users"
   ]
  },
  {
   "cell_type": "markdown",
   "metadata": {
    "id": "cYL2mSJY3b7P"
   },
   "source": [
    "#### 1️⃣ Load the Trained Model"
   ]
  },
  {
   "cell_type": "markdown",
   "metadata": {
    "id": "JT3qUxw43b7P"
   },
   "source": [
    "Define Paths Checkpoint"
   ]
  },
  {
   "cell_type": "code",
   "execution_count": 17,
   "metadata": {
    "id": "FccsV0Sj3b7P"
   },
   "outputs": [],
   "source": [
    "weights_checkpoint = \"/content/drive/MyDrive/XAIKGRLGM/hands-on-session/data/checkpoint/huggingface-distilgpt2-PEARLM-Jul-15-2025_06-30-29.pth\" #  weights trained during the training\n",
    "checkpoint = \"/content/drive/MyDrive/XAIKGRLGM/hands-on-session/data/checkpoint/hopwise-distilgpt2-PEARLM-Jul-15-2025_06-30-29.pth\" # hopwise metadata"
   ]
  },
  {
   "cell_type": "markdown",
   "metadata": {
    "id": "AtWfd6id3b7P"
   },
   "source": [
    "Load model checkpoint with its configuration"
   ]
  },
  {
   "cell_type": "code",
   "execution_count": 18,
   "metadata": {
    "colab": {
     "base_uri": "https://localhost:8080/",
     "height": 71,
     "referenced_widgets": [
      "7ef78fc0fb554016aa3f465e7d2f4aa8",
      "3cd38894a1004b32987dc81db9c1ff96"
     ]
    },
    "id": "io0N9bPM3b7P",
    "outputId": "e04096e9-fe11-488a-9974-d14d8e404261",
    "scrolled": true
   },
   "outputs": [
    {
     "name": "stderr",
     "output_type": "stream",
     "text": [
      "/usr/local/lib/python3.11/dist-packages/hopwise/utils/logger.py:44: TqdmExperimentalWarning: rich is experimental/alpha\n",
      "  return self.progress_bar(*args, **kwargs)\n"
     ]
    },
    {
     "data": {
      "application/vnd.jupyter.widget-view+json": {
       "model_id": "7ef78fc0fb554016aa3f465e7d2f4aa8",
       "version_major": 2,
       "version_minor": 0
      },
      "text/plain": [
       "Output()"
      ]
     },
     "metadata": {},
     "output_type": "display_data"
    },
    {
     "data": {
      "text/html": [
       "<pre style=\"white-space:pre;overflow-x:auto;line-height:normal;font-family:Menlo,'DejaVu Sans Mono',consolas,'Courier New',monospace\"></pre>\n"
      ],
      "text/plain": []
     },
     "metadata": {},
     "output_type": "display_data"
    }
   ],
   "source": [
    "config, model, dataset, train_data, valid_data, test_data = load_data_and_model(model_file=checkpoint)"
   ]
  },
  {
   "cell_type": "markdown",
   "metadata": {
    "id": "1u59TY4k3b7P"
   },
   "source": [
    "----"
   ]
  },
  {
   "cell_type": "markdown",
   "metadata": {
    "id": "1X92NNzx3b7S"
   },
   "source": [
    "#### 2️⃣ Generate Recommendations"
   ]
  },
  {
   "cell_type": "markdown",
   "metadata": {
    "id": "mhPyTQ4c3b7S"
   },
   "source": [
    "To generate the recommendations the hopwise library provides the `explain()` method.\n",
    "\n",
    "Before calling `model.explain()`, several steps are required to prepare the model and the input data properly:\n",
    "\n",
    "* 1️⃣ Set the model to evaluation mode\n",
    "* 2️⃣ Define target users\n",
    "* 3️⃣ Pre-process user-item input\n",
    "* 4️⃣ Tokenize user-item input\n",
    "\n"
   ]
  },
  {
   "cell_type": "code",
   "execution_count": 19,
   "metadata": {
    "colab": {
     "base_uri": "https://localhost:8080/"
    },
    "id": "WphRgFSN3b7T",
    "outputId": "babcd2df-53b7-4164-f4b0-5728724abe87"
   },
   "outputs": [
    {
     "name": "stdout",
     "output_type": "stream",
     "text": [
      "['[BOS] U1 R25', '[BOS] U2 R25']\n",
      "{'input_ids': tensor([[    4, 34663, 34654],\n",
      "        [    4, 34774, 34654]], device='cuda:0'), 'token_type_ids': tensor([[0, 0, 0],\n",
      "        [0, 0, 0]], device='cuda:0'), 'attention_mask': tensor([[1, 1, 1],\n",
      "        [1, 1, 1]], device='cuda:0')}\n"
     ]
    }
   ],
   "source": [
    "#Set the model to evaluation mode\n",
    "model.eval()\n",
    "\n",
    "#Define target user\n",
    "users = ['1', '2']\n",
    "\n",
    "#Pre-process the input  --> e.g., [\"[BOS] U1 R25\", \"[BOS] U2 R25\"].\n",
    "users = pre_process_input(users, dataset.tokenizer)\n",
    "print(users)\n",
    "\n",
    "#Tokenize the input --> tensor data\n",
    "input_ids = dataset.tokenizer(users, return_tensors=\"pt\", add_special_tokens=False).to(model.device)\n",
    "print(input_ids)\n",
    "\n"
   ]
  },
  {
   "cell_type": "markdown",
   "metadata": {
    "id": "8Q8Qn9di3b7T"
   },
   "source": [
    "----\n",
    "Now, we are ready to call the  `model.explain()` to get top-N item recommendations and their path for each user\n",
    "\n",
    "This method internally calls HuggingFace Generation API, which expects a set of parameters to control how the model should generate the sequences. We have already modified a few of them to reduce computation burden, and _hopwise_ provides the following default values:\n",
    "```yaml\n",
    "path_generation_args: {\n",
    "    paths_per_user: 10          # (int) Number of paths generated per user. (transformed into the HuggingFace parameter `num_return_sequences`)\n",
    "    num_beams: 20               # (int) Number of beams for beam search.\n",
    "    num_beam_groups: 5          # (int) Number of groups for diverse beam search.\n",
    "    diversity_penalty: 0.3      # (float) Diversity penalty for beam search.\n",
    "    length_penalty: 0.0         # (float) Length penalty for beam search.\n",
    "    top_k: ~                    # (int) The number of highest probability vocabulary tokens to keep for top-k-filtering.\n",
    "    top_p: ~                    # (float) The cumulative probability for top-p-filtering.\n",
    "    do_sample: False            # (bool) Whether to use sampling ; use greedy decoding otherwise.\n",
    "}\n",
    "```"
   ]
  },
  {
   "cell_type": "code",
   "execution_count": 20,
   "metadata": {
    "id": "gEdZaLCZ3b7T"
   },
   "outputs": [],
   "source": [
    "# Run inference to get top-N item recommendations for each user\n",
    "\n",
    "#  Output:\n",
    "#  - scores: A 2D tensor (n_users X n_items) of prediction scores\n",
    "#  - explanations: A list of quadruples, where each includes:\n",
    "#     'user'      → internal user ID\n",
    "#     'item'      → recommended item ID\n",
    "#     'score'     → relevance score for the recommendation\n",
    "#     'path'      → list representing the reasoning path in the KG (e.g., [U1, R25, I432, ...])\n",
    "\n",
    "scores, explanations = model.explain(\n",
    "    input_ids,\n",
    "    **config[\"path_generation_args\"],\n",
    "    return_dict_in_generate=True,            # HuggingFace output as a dictionary including `input_ids`, `sequences`. If also `output_scores=True`, then it also includes `scores` and `sequence_scores`\n",
    "    output_scores=True,                      # Includes `scores` in the returned dictionary\n",
    ")"
   ]
  },
  {
   "cell_type": "code",
   "execution_count": 21,
   "metadata": {
    "colab": {
     "base_uri": "https://localhost:8080/"
    },
    "id": "bWoY5spL3b7T",
    "outputId": "2378a271-dcdc-4a7e-d250-4e9e5afb2be7"
   },
   "outputs": [
    {
     "data": {
      "text/plain": [
       "[[1,\n",
       "  1290,\n",
       "  0.0,\n",
       "  [('self_loop', 'user', 1),\n",
       "   (25, 'item', 377),\n",
       "   (13, 'entity', 3921),\n",
       "   (13, 'item', 1290)]],\n",
       " [1,\n",
       "  105,\n",
       "  0.0,\n",
       "  [('self_loop', 'user', 1),\n",
       "   (25, 'item', 377),\n",
       "   (13, 'entity', 3921),\n",
       "   (13, 'item', 105)]],\n",
       " [2,\n",
       "  423,\n",
       "  0.0,\n",
       "  [('self_loop', 'user', 2),\n",
       "   (25, 'item', 575),\n",
       "   (12, 'entity', 3937),\n",
       "   (18, 'item', 423)]]]"
      ]
     },
     "execution_count": 21,
     "metadata": {},
     "output_type": "execute_result"
    }
   ],
   "source": [
    "explanations"
   ]
  },
  {
   "cell_type": "markdown",
   "metadata": {
    "id": "vB6qiuerT55b"
   },
   "source": [
    "----\n",
    "For convenience, we'll create a Pandas DataFrame to store the explanations"
   ]
  },
  {
   "cell_type": "code",
   "execution_count": 22,
   "metadata": {
    "colab": {
     "base_uri": "https://localhost:8080/",
     "height": 144
    },
    "id": "NkKTlyHGUEcM",
    "outputId": "b6a3c59b-38a7-40f6-e9f1-73897f593f5a"
   },
   "outputs": [
    {
     "data": {
      "application/vnd.google.colaboratory.intrinsic+json": {
       "summary": "{\n  \"name\": \"explanations\",\n  \"rows\": 3,\n  \"fields\": [\n    {\n      \"column\": \"user\",\n      \"properties\": {\n        \"dtype\": \"number\",\n        \"std\": 0,\n        \"min\": 1,\n        \"max\": 2,\n        \"num_unique_values\": 2,\n        \"samples\": [\n          2,\n          1\n        ],\n        \"semantic_type\": \"\",\n        \"description\": \"\"\n      }\n    },\n    {\n      \"column\": \"item\",\n      \"properties\": {\n        \"dtype\": \"number\",\n        \"std\": 613,\n        \"min\": 105,\n        \"max\": 1290,\n        \"num_unique_values\": 3,\n        \"samples\": [\n          1290,\n          105\n        ],\n        \"semantic_type\": \"\",\n        \"description\": \"\"\n      }\n    },\n    {\n      \"column\": \"score\",\n      \"properties\": {\n        \"dtype\": \"number\",\n        \"std\": 0.0,\n        \"min\": 0.0,\n        \"max\": 0.0,\n        \"num_unique_values\": 1,\n        \"samples\": [\n          0.0\n        ],\n        \"semantic_type\": \"\",\n        \"description\": \"\"\n      }\n    },\n    {\n      \"column\": \"path\",\n      \"properties\": {\n        \"dtype\": \"object\",\n        \"semantic_type\": \"\",\n        \"description\": \"\"\n      }\n    }\n  ]\n}",
       "type": "dataframe",
       "variable_name": "explanations"
      },
      "text/html": [
       "\n",
       "  <div id=\"df-93f2db20-5d33-48b8-9d2b-fd001a79e9bd\" class=\"colab-df-container\">\n",
       "    <div>\n",
       "<style scoped>\n",
       "    .dataframe tbody tr th:only-of-type {\n",
       "        vertical-align: middle;\n",
       "    }\n",
       "\n",
       "    .dataframe tbody tr th {\n",
       "        vertical-align: top;\n",
       "    }\n",
       "\n",
       "    .dataframe thead th {\n",
       "        text-align: right;\n",
       "    }\n",
       "</style>\n",
       "<table border=\"1\" class=\"dataframe\">\n",
       "  <thead>\n",
       "    <tr style=\"text-align: right;\">\n",
       "      <th></th>\n",
       "      <th>user</th>\n",
       "      <th>item</th>\n",
       "      <th>score</th>\n",
       "      <th>path</th>\n",
       "    </tr>\n",
       "  </thead>\n",
       "  <tbody>\n",
       "    <tr>\n",
       "      <th>0</th>\n",
       "      <td>1</td>\n",
       "      <td>1290</td>\n",
       "      <td>0.0</td>\n",
       "      <td>[(self_loop, user, 1), (25, item, 377), (13, e...</td>\n",
       "    </tr>\n",
       "    <tr>\n",
       "      <th>1</th>\n",
       "      <td>1</td>\n",
       "      <td>105</td>\n",
       "      <td>0.0</td>\n",
       "      <td>[(self_loop, user, 1), (25, item, 377), (13, e...</td>\n",
       "    </tr>\n",
       "    <tr>\n",
       "      <th>2</th>\n",
       "      <td>2</td>\n",
       "      <td>423</td>\n",
       "      <td>0.0</td>\n",
       "      <td>[(self_loop, user, 2), (25, item, 575), (12, e...</td>\n",
       "    </tr>\n",
       "  </tbody>\n",
       "</table>\n",
       "</div>\n",
       "    <div class=\"colab-df-buttons\">\n",
       "\n",
       "  <div class=\"colab-df-container\">\n",
       "    <button class=\"colab-df-convert\" onclick=\"convertToInteractive('df-93f2db20-5d33-48b8-9d2b-fd001a79e9bd')\"\n",
       "            title=\"Convert this dataframe to an interactive table.\"\n",
       "            style=\"display:none;\">\n",
       "\n",
       "  <svg xmlns=\"http://www.w3.org/2000/svg\" height=\"24px\" viewBox=\"0 -960 960 960\">\n",
       "    <path d=\"M120-120v-720h720v720H120Zm60-500h600v-160H180v160Zm220 220h160v-160H400v160Zm0 220h160v-160H400v160ZM180-400h160v-160H180v160Zm440 0h160v-160H620v160ZM180-180h160v-160H180v160Zm440 0h160v-160H620v160Z\"/>\n",
       "  </svg>\n",
       "    </button>\n",
       "\n",
       "  <style>\n",
       "    .colab-df-container {\n",
       "      display:flex;\n",
       "      gap: 12px;\n",
       "    }\n",
       "\n",
       "    .colab-df-convert {\n",
       "      background-color: #E8F0FE;\n",
       "      border: none;\n",
       "      border-radius: 50%;\n",
       "      cursor: pointer;\n",
       "      display: none;\n",
       "      fill: #1967D2;\n",
       "      height: 32px;\n",
       "      padding: 0 0 0 0;\n",
       "      width: 32px;\n",
       "    }\n",
       "\n",
       "    .colab-df-convert:hover {\n",
       "      background-color: #E2EBFA;\n",
       "      box-shadow: 0px 1px 2px rgba(60, 64, 67, 0.3), 0px 1px 3px 1px rgba(60, 64, 67, 0.15);\n",
       "      fill: #174EA6;\n",
       "    }\n",
       "\n",
       "    .colab-df-buttons div {\n",
       "      margin-bottom: 4px;\n",
       "    }\n",
       "\n",
       "    [theme=dark] .colab-df-convert {\n",
       "      background-color: #3B4455;\n",
       "      fill: #D2E3FC;\n",
       "    }\n",
       "\n",
       "    [theme=dark] .colab-df-convert:hover {\n",
       "      background-color: #434B5C;\n",
       "      box-shadow: 0px 1px 3px 1px rgba(0, 0, 0, 0.15);\n",
       "      filter: drop-shadow(0px 1px 2px rgba(0, 0, 0, 0.3));\n",
       "      fill: #FFFFFF;\n",
       "    }\n",
       "  </style>\n",
       "\n",
       "    <script>\n",
       "      const buttonEl =\n",
       "        document.querySelector('#df-93f2db20-5d33-48b8-9d2b-fd001a79e9bd button.colab-df-convert');\n",
       "      buttonEl.style.display =\n",
       "        google.colab.kernel.accessAllowed ? 'block' : 'none';\n",
       "\n",
       "      async function convertToInteractive(key) {\n",
       "        const element = document.querySelector('#df-93f2db20-5d33-48b8-9d2b-fd001a79e9bd');\n",
       "        const dataTable =\n",
       "          await google.colab.kernel.invokeFunction('convertToInteractive',\n",
       "                                                    [key], {});\n",
       "        if (!dataTable) return;\n",
       "\n",
       "        const docLinkHtml = 'Like what you see? Visit the ' +\n",
       "          '<a target=\"_blank\" href=https://colab.research.google.com/notebooks/data_table.ipynb>data table notebook</a>'\n",
       "          + ' to learn more about interactive tables.';\n",
       "        element.innerHTML = '';\n",
       "        dataTable['output_type'] = 'display_data';\n",
       "        await google.colab.output.renderOutput(dataTable, element);\n",
       "        const docLink = document.createElement('div');\n",
       "        docLink.innerHTML = docLinkHtml;\n",
       "        element.appendChild(docLink);\n",
       "      }\n",
       "    </script>\n",
       "  </div>\n",
       "\n",
       "\n",
       "    <div id=\"df-9fd9722e-4de3-4415-ace7-f55f143287b2\">\n",
       "      <button class=\"colab-df-quickchart\" onclick=\"quickchart('df-9fd9722e-4de3-4415-ace7-f55f143287b2')\"\n",
       "                title=\"Suggest charts\"\n",
       "                style=\"display:none;\">\n",
       "\n",
       "<svg xmlns=\"http://www.w3.org/2000/svg\" height=\"24px\"viewBox=\"0 0 24 24\"\n",
       "     width=\"24px\">\n",
       "    <g>\n",
       "        <path d=\"M19 3H5c-1.1 0-2 .9-2 2v14c0 1.1.9 2 2 2h14c1.1 0 2-.9 2-2V5c0-1.1-.9-2-2-2zM9 17H7v-7h2v7zm4 0h-2V7h2v10zm4 0h-2v-4h2v4z\"/>\n",
       "    </g>\n",
       "</svg>\n",
       "      </button>\n",
       "\n",
       "<style>\n",
       "  .colab-df-quickchart {\n",
       "      --bg-color: #E8F0FE;\n",
       "      --fill-color: #1967D2;\n",
       "      --hover-bg-color: #E2EBFA;\n",
       "      --hover-fill-color: #174EA6;\n",
       "      --disabled-fill-color: #AAA;\n",
       "      --disabled-bg-color: #DDD;\n",
       "  }\n",
       "\n",
       "  [theme=dark] .colab-df-quickchart {\n",
       "      --bg-color: #3B4455;\n",
       "      --fill-color: #D2E3FC;\n",
       "      --hover-bg-color: #434B5C;\n",
       "      --hover-fill-color: #FFFFFF;\n",
       "      --disabled-bg-color: #3B4455;\n",
       "      --disabled-fill-color: #666;\n",
       "  }\n",
       "\n",
       "  .colab-df-quickchart {\n",
       "    background-color: var(--bg-color);\n",
       "    border: none;\n",
       "    border-radius: 50%;\n",
       "    cursor: pointer;\n",
       "    display: none;\n",
       "    fill: var(--fill-color);\n",
       "    height: 32px;\n",
       "    padding: 0;\n",
       "    width: 32px;\n",
       "  }\n",
       "\n",
       "  .colab-df-quickchart:hover {\n",
       "    background-color: var(--hover-bg-color);\n",
       "    box-shadow: 0 1px 2px rgba(60, 64, 67, 0.3), 0 1px 3px 1px rgba(60, 64, 67, 0.15);\n",
       "    fill: var(--button-hover-fill-color);\n",
       "  }\n",
       "\n",
       "  .colab-df-quickchart-complete:disabled,\n",
       "  .colab-df-quickchart-complete:disabled:hover {\n",
       "    background-color: var(--disabled-bg-color);\n",
       "    fill: var(--disabled-fill-color);\n",
       "    box-shadow: none;\n",
       "  }\n",
       "\n",
       "  .colab-df-spinner {\n",
       "    border: 2px solid var(--fill-color);\n",
       "    border-color: transparent;\n",
       "    border-bottom-color: var(--fill-color);\n",
       "    animation:\n",
       "      spin 1s steps(1) infinite;\n",
       "  }\n",
       "\n",
       "  @keyframes spin {\n",
       "    0% {\n",
       "      border-color: transparent;\n",
       "      border-bottom-color: var(--fill-color);\n",
       "      border-left-color: var(--fill-color);\n",
       "    }\n",
       "    20% {\n",
       "      border-color: transparent;\n",
       "      border-left-color: var(--fill-color);\n",
       "      border-top-color: var(--fill-color);\n",
       "    }\n",
       "    30% {\n",
       "      border-color: transparent;\n",
       "      border-left-color: var(--fill-color);\n",
       "      border-top-color: var(--fill-color);\n",
       "      border-right-color: var(--fill-color);\n",
       "    }\n",
       "    40% {\n",
       "      border-color: transparent;\n",
       "      border-right-color: var(--fill-color);\n",
       "      border-top-color: var(--fill-color);\n",
       "    }\n",
       "    60% {\n",
       "      border-color: transparent;\n",
       "      border-right-color: var(--fill-color);\n",
       "    }\n",
       "    80% {\n",
       "      border-color: transparent;\n",
       "      border-right-color: var(--fill-color);\n",
       "      border-bottom-color: var(--fill-color);\n",
       "    }\n",
       "    90% {\n",
       "      border-color: transparent;\n",
       "      border-bottom-color: var(--fill-color);\n",
       "    }\n",
       "  }\n",
       "</style>\n",
       "\n",
       "      <script>\n",
       "        async function quickchart(key) {\n",
       "          const quickchartButtonEl =\n",
       "            document.querySelector('#' + key + ' button');\n",
       "          quickchartButtonEl.disabled = true;  // To prevent multiple clicks.\n",
       "          quickchartButtonEl.classList.add('colab-df-spinner');\n",
       "          try {\n",
       "            const charts = await google.colab.kernel.invokeFunction(\n",
       "                'suggestCharts', [key], {});\n",
       "          } catch (error) {\n",
       "            console.error('Error during call to suggestCharts:', error);\n",
       "          }\n",
       "          quickchartButtonEl.classList.remove('colab-df-spinner');\n",
       "          quickchartButtonEl.classList.add('colab-df-quickchart-complete');\n",
       "        }\n",
       "        (() => {\n",
       "          let quickchartButtonEl =\n",
       "            document.querySelector('#df-9fd9722e-4de3-4415-ace7-f55f143287b2 button');\n",
       "          quickchartButtonEl.style.display =\n",
       "            google.colab.kernel.accessAllowed ? 'block' : 'none';\n",
       "        })();\n",
       "      </script>\n",
       "    </div>\n",
       "\n",
       "  <div id=\"id_9804fbe6-6a22-410a-a792-2f7b8108b996\">\n",
       "    <style>\n",
       "      .colab-df-generate {\n",
       "        background-color: #E8F0FE;\n",
       "        border: none;\n",
       "        border-radius: 50%;\n",
       "        cursor: pointer;\n",
       "        display: none;\n",
       "        fill: #1967D2;\n",
       "        height: 32px;\n",
       "        padding: 0 0 0 0;\n",
       "        width: 32px;\n",
       "      }\n",
       "\n",
       "      .colab-df-generate:hover {\n",
       "        background-color: #E2EBFA;\n",
       "        box-shadow: 0px 1px 2px rgba(60, 64, 67, 0.3), 0px 1px 3px 1px rgba(60, 64, 67, 0.15);\n",
       "        fill: #174EA6;\n",
       "      }\n",
       "\n",
       "      [theme=dark] .colab-df-generate {\n",
       "        background-color: #3B4455;\n",
       "        fill: #D2E3FC;\n",
       "      }\n",
       "\n",
       "      [theme=dark] .colab-df-generate:hover {\n",
       "        background-color: #434B5C;\n",
       "        box-shadow: 0px 1px 3px 1px rgba(0, 0, 0, 0.15);\n",
       "        filter: drop-shadow(0px 1px 2px rgba(0, 0, 0, 0.3));\n",
       "        fill: #FFFFFF;\n",
       "      }\n",
       "    </style>\n",
       "    <button class=\"colab-df-generate\" onclick=\"generateWithVariable('explanations')\"\n",
       "            title=\"Generate code using this dataframe.\"\n",
       "            style=\"display:none;\">\n",
       "\n",
       "  <svg xmlns=\"http://www.w3.org/2000/svg\" height=\"24px\"viewBox=\"0 0 24 24\"\n",
       "       width=\"24px\">\n",
       "    <path d=\"M7,19H8.4L18.45,9,17,7.55,7,17.6ZM5,21V16.75L18.45,3.32a2,2,0,0,1,2.83,0l1.4,1.43a1.91,1.91,0,0,1,.58,1.4,1.91,1.91,0,0,1-.58,1.4L9.25,21ZM18.45,9,17,7.55Zm-12,3A5.31,5.31,0,0,0,4.9,8.1,5.31,5.31,0,0,0,1,6.5,5.31,5.31,0,0,0,4.9,4.9,5.31,5.31,0,0,0,6.5,1,5.31,5.31,0,0,0,8.1,4.9,5.31,5.31,0,0,0,12,6.5,5.46,5.46,0,0,0,6.5,12Z\"/>\n",
       "  </svg>\n",
       "    </button>\n",
       "    <script>\n",
       "      (() => {\n",
       "      const buttonEl =\n",
       "        document.querySelector('#id_9804fbe6-6a22-410a-a792-2f7b8108b996 button.colab-df-generate');\n",
       "      buttonEl.style.display =\n",
       "        google.colab.kernel.accessAllowed ? 'block' : 'none';\n",
       "\n",
       "      buttonEl.onclick = () => {\n",
       "        google.colab.notebook.generateWithVariable('explanations');\n",
       "      }\n",
       "      })();\n",
       "    </script>\n",
       "  </div>\n",
       "\n",
       "    </div>\n",
       "  </div>\n"
      ],
      "text/plain": [
       "   user  item  score                                               path\n",
       "0     1  1290    0.0  [(self_loop, user, 1), (25, item, 377), (13, e...\n",
       "1     1   105    0.0  [(self_loop, user, 1), (25, item, 377), (13, e...\n",
       "2     2   423    0.0  [(self_loop, user, 2), (25, item, 575), (12, e..."
      ]
     },
     "execution_count": 22,
     "metadata": {},
     "output_type": "execute_result"
    }
   ],
   "source": [
    "explanations = pd.DataFrame(explanations, columns=['user', 'item', 'score', 'path'])\n",
    "explanations"
   ]
  },
  {
   "cell_type": "markdown",
   "metadata": {
    "id": "L2Rdz9T-7FIM"
   },
   "source": [
    "The format of the explanations consisting of a list of _hops_.  \n",
    "Each _hop_ is a triple `(relation, entity type, entity ID)`, where:\n",
    "- `relation` represents the relation incident to the node in the current hop. As the first hop always starts from a user, `relation = \"self_loop\"`, otherwise `relation` is the ID of the corresponding KG relation\n",
    "- `entity type` denotes the type of entity reached by the current hop.\n",
    "- `entity ID` is the ID of the entity node reached by the current hop."
   ]
  },
  {
   "cell_type": "markdown",
   "metadata": {
    "id": "QRiJorXCi6or"
   },
   "source": [
    "Example:\n",
    "\n",
    "```python\n",
    "\n",
    "example_explanation = [\n",
    "    ('self_loop', 'user', 2),   # hop 0 (fake hop): denotes that the path starts from a user with ID 2\n",
    "    (25, 'item', 575),          # hop 1: user 2 (from hop 0) is connected to the item with ID 575 by the relation with ID 25\n",
    "    (12, 'entity', 3937),       # hop 2: item 575 (from hop 1) is connected to the entity with ID 3937 by the relation with ID 12\n",
    "    (18, 'item', 423)           # hop 3: entity 3937 (from hop 2) is connected to the item with ID 423 by the relation with ID 18\n",
    "]\n",
    "\n",
    "user_2 --relation_25--> item_575 --relation_12--> entity_3937 --relation_18--> item_423\n",
    "```"
   ]
  },
  {
   "cell_type": "markdown",
   "metadata": {
    "id": "R8fNRLvs3b7U"
   },
   "source": [
    "----"
   ]
  },
  {
   "cell_type": "markdown",
   "metadata": {
    "id": "vVJRqbxY3b7U"
   },
   "source": [
    "#### 3️⃣ Generate Textual Explanations"
   ]
  },
  {
   "cell_type": "markdown",
   "metadata": {
    "id": "zJ2UvJPv3b7U"
   },
   "source": [
    "We define the `generate_explanation()` function to map the paths to their corresponding explanation templates."
   ]
  },
  {
   "cell_type": "code",
   "execution_count": 35,
   "metadata": {
    "id": "iUwZ5h1LGo33"
   },
   "outputs": [],
   "source": [
    "import pandas as pd\n",
    "pd.set_option('display.max_colwidth', None)\n",
    "import os\n",
    "\n",
    "# Mapping functions to get original tokens\n",
    "def eid2entity(x): return dataset.id2token(dataset.entity_field, x)\n",
    "def uid2user(x): return dataset.id2token(dataset.uid_field, x)\n",
    "def rid2relation(x): return dataset.id2token(dataset.relation_field, x)\n",
    "\n",
    "items_data = pd.read_csv(os.path.join(config['data_path'], f\"{config['dataset']}.item\"), sep=\"\\t\")\n",
    "\n",
    "def iid2movie_name(x):\n",
    "    try:\n",
    "        return items_data[items_data['item_id:token'] == x]['movie_title:token_seq'].iloc[0]\n",
    "    except IndexError:\n",
    "        return f\"item{x}\"\n",
    "\n",
    "# Mapping entity type prefixes (U, E, I, R) to decoding functions\n",
    "e_type2mapping = {\n",
    "    'U': uid2user,\n",
    "    'E': eid2entity,\n",
    "    'I': iid2movie_name,\n",
    "    'R': rid2relation,\n",
    "    'user': uid2user,\n",
    "    'entity': eid2entity,\n",
    "    'item': iid2movie_name,\n",
    "    'relation': rid2relation\n",
    "}\n",
    "\n",
    "# Default explanation template\n",
    "default_template = \"{item} is recommended to you because you {relation1} {entity1} also {relation2} by {entity2}\"\n",
    "\n",
    "# Explanation generator\n",
    "def generate_explanation(row):\n",
    "    path = row[\"path\"]\n",
    "    readable = []\n",
    "\n",
    "    for hop in path:\n",
    "        relation_id, entity_type, entity_id = hop\n",
    "\n",
    "        # Decode relation\n",
    "        if relation_id != \"self_loop\":\n",
    "            decode_fn = e_type2mapping.get('relation')\n",
    "            decoded_relation = decode_fn(relation_id) if decode_fn else f\"relation{relation_id}\"\n",
    "            readable.append(decoded_relation)\n",
    "\n",
    "        # Decode entity\n",
    "        # Check if it's actually an item entity\n",
    "        if entity_type == \"entity\" and dataset.id2token(dataset.entity_field, entity_id) in dataset.entity2item:\n",
    "            entity_type = \"item\"\n",
    "        decode_fn = e_type2mapping.get(entity_type)\n",
    "        decoded_entity = decode_fn(entity_id) if decode_fn else f\"{entity_type}{entity_id}\"\n",
    "        readable.append(decoded_entity)\n",
    "\n",
    "    # Extract the relations from the path\n",
    "    relation_tokens = [dataset.id2token(dataset.relation_field, hop[0]) for hop in path if hop[0] != \"self_loop\"]\n",
    "\n",
    "    return default_template.format(\n",
    "        item=readable[-1] if len(readable) > 0 else \"unknown\",\n",
    "        relation1=relation_tokens[0] if len(relation_tokens) > 0 and relation_tokens[0] != dataset.ui_relation else \"interacted with\",\n",
    "        entity1=readable[2] if len(readable) > 2 else \"unknown\",\n",
    "        relation2=relation_tokens[1] if len(relation_tokens) > 1 else \"interacted with\",\n",
    "        entity2=readable[4] if len(readable) > 4 else \"unknown\"\n",
    "    )\n",
    "\n",
    "# Main function: add explanation, user name, item name\n",
    "def get_table_explanations(explanations_df: pd.DataFrame) -> pd.DataFrame:\n",
    "    df = explanations_df.copy()\n",
    "\n",
    "    # Generate explanations\n",
    "    df[\"explanation\"] = df.apply(generate_explanation, axis=1)\n",
    "\n",
    "    # Add readable user and item names\n",
    "    # df[\"user name\"] = df[\"user\"].apply(lambda x: uid2user(int(x)))\n",
    "    df[\"Recommended item (name)\"] = df[\"item\"].apply(lambda x: iid2movie_name(int(x)))\n",
    "\n",
    "    # Rename ID columns\n",
    "    df.rename(columns={\n",
    "        \"user\": \"User ID\",\n",
    "        \"item\": \"Recommended item (ID)\"\n",
    "    }, inplace=True)\n",
    "\n",
    "    # Reorder final columns\n",
    "    final_columns = [\n",
    "        \"User ID\",\n",
    "        \"Recommended item (ID)\",\n",
    "        \"Recommended item (name)\",\n",
    "        \"path\",\n",
    "        \"explanation\"\n",
    "    ]\n",
    "    df = df[final_columns]\n",
    "\n",
    "    return df\n"
   ]
  },
  {
   "cell_type": "markdown",
   "metadata": {
    "id": "2MWKzLHS3b7U"
   },
   "source": [
    "**We are finally ready to read the explanations 😊**"
   ]
  },
  {
   "cell_type": "code",
   "execution_count": 36,
   "metadata": {
    "colab": {
     "base_uri": "https://localhost:8080/",
     "height": 144
    },
    "id": "ga347ubJ3b7U",
    "outputId": "32598213-9ebe-4d9f-f66b-77decfa5c925"
   },
   "outputs": [
    {
     "data": {
      "application/vnd.google.colaboratory.intrinsic+json": {
       "summary": "{\n  \"name\": \"final_explanations\",\n  \"rows\": 3,\n  \"fields\": [\n    {\n      \"column\": \"User ID\",\n      \"properties\": {\n        \"dtype\": \"number\",\n        \"std\": 0,\n        \"min\": 1,\n        \"max\": 2,\n        \"num_unique_values\": 2,\n        \"samples\": [\n          2,\n          1\n        ],\n        \"semantic_type\": \"\",\n        \"description\": \"\"\n      }\n    },\n    {\n      \"column\": \"Recommended item (ID)\",\n      \"properties\": {\n        \"dtype\": \"number\",\n        \"std\": 613,\n        \"min\": 105,\n        \"max\": 1290,\n        \"num_unique_values\": 3,\n        \"samples\": [\n          1290,\n          105\n        ],\n        \"semantic_type\": \"\",\n        \"description\": \"\"\n      }\n    },\n    {\n      \"column\": \"Recommended item (name)\",\n      \"properties\": {\n        \"dtype\": \"string\",\n        \"num_unique_values\": 3,\n        \"samples\": [\n          \"Country Life\",\n          \"Sgt. Bilko\"\n        ],\n        \"semantic_type\": \"\",\n        \"description\": \"\"\n      }\n    },\n    {\n      \"column\": \"path\",\n      \"properties\": {\n        \"dtype\": \"object\",\n        \"semantic_type\": \"\",\n        \"description\": \"\"\n      }\n    },\n    {\n      \"column\": \"explanation\",\n      \"properties\": {\n        \"dtype\": \"string\",\n        \"num_unique_values\": 3,\n        \"samples\": [\n          \"Country Life is recommended to you because you interacted with Heavyweights also film.film.written_by by m.0368ny\",\n          \"Sgt. Bilko is recommended to you because you interacted with Heavyweights also film.film.written_by by m.0368ny\"\n        ],\n        \"semantic_type\": \"\",\n        \"description\": \"\"\n      }\n    }\n  ]\n}",
       "type": "dataframe",
       "variable_name": "final_explanations"
      },
      "text/html": [
       "\n",
       "  <div id=\"df-edaed6bc-e47b-4a9f-b62f-a092574f0738\" class=\"colab-df-container\">\n",
       "    <div>\n",
       "<style scoped>\n",
       "    .dataframe tbody tr th:only-of-type {\n",
       "        vertical-align: middle;\n",
       "    }\n",
       "\n",
       "    .dataframe tbody tr th {\n",
       "        vertical-align: top;\n",
       "    }\n",
       "\n",
       "    .dataframe thead th {\n",
       "        text-align: right;\n",
       "    }\n",
       "</style>\n",
       "<table border=\"1\" class=\"dataframe\">\n",
       "  <thead>\n",
       "    <tr style=\"text-align: right;\">\n",
       "      <th></th>\n",
       "      <th>User ID</th>\n",
       "      <th>Recommended item (ID)</th>\n",
       "      <th>Recommended item (name)</th>\n",
       "      <th>path</th>\n",
       "      <th>explanation</th>\n",
       "    </tr>\n",
       "  </thead>\n",
       "  <tbody>\n",
       "    <tr>\n",
       "      <th>0</th>\n",
       "      <td>1</td>\n",
       "      <td>1290</td>\n",
       "      <td>Country Life</td>\n",
       "      <td>[(self_loop, user, 1), (25, item, 377), (13, entity, 3921), (13, item, 1290)]</td>\n",
       "      <td>Country Life is recommended to you because you interacted with Heavyweights also film.film.written_by by m.0368ny</td>\n",
       "    </tr>\n",
       "    <tr>\n",
       "      <th>1</th>\n",
       "      <td>1</td>\n",
       "      <td>105</td>\n",
       "      <td>Sgt. Bilko</td>\n",
       "      <td>[(self_loop, user, 1), (25, item, 377), (13, entity, 3921), (13, item, 105)]</td>\n",
       "      <td>Sgt. Bilko is recommended to you because you interacted with Heavyweights also film.film.written_by by m.0368ny</td>\n",
       "    </tr>\n",
       "    <tr>\n",
       "      <th>2</th>\n",
       "      <td>2</td>\n",
       "      <td>423</td>\n",
       "      <td>E.T. the Extra-Terrestrial</td>\n",
       "      <td>[(self_loop, user, 2), (25, item, 575), (12, entity, 3937), (18, item, 423)]</td>\n",
       "      <td>E.T. the Extra-Terrestrial is recommended to you because you interacted with City Slickers II: The Legend of Curly's Gold also film.production_company.films by m.0283xx2</td>\n",
       "    </tr>\n",
       "  </tbody>\n",
       "</table>\n",
       "</div>\n",
       "    <div class=\"colab-df-buttons\">\n",
       "\n",
       "  <div class=\"colab-df-container\">\n",
       "    <button class=\"colab-df-convert\" onclick=\"convertToInteractive('df-edaed6bc-e47b-4a9f-b62f-a092574f0738')\"\n",
       "            title=\"Convert this dataframe to an interactive table.\"\n",
       "            style=\"display:none;\">\n",
       "\n",
       "  <svg xmlns=\"http://www.w3.org/2000/svg\" height=\"24px\" viewBox=\"0 -960 960 960\">\n",
       "    <path d=\"M120-120v-720h720v720H120Zm60-500h600v-160H180v160Zm220 220h160v-160H400v160Zm0 220h160v-160H400v160ZM180-400h160v-160H180v160Zm440 0h160v-160H620v160ZM180-180h160v-160H180v160Zm440 0h160v-160H620v160Z\"/>\n",
       "  </svg>\n",
       "    </button>\n",
       "\n",
       "  <style>\n",
       "    .colab-df-container {\n",
       "      display:flex;\n",
       "      gap: 12px;\n",
       "    }\n",
       "\n",
       "    .colab-df-convert {\n",
       "      background-color: #E8F0FE;\n",
       "      border: none;\n",
       "      border-radius: 50%;\n",
       "      cursor: pointer;\n",
       "      display: none;\n",
       "      fill: #1967D2;\n",
       "      height: 32px;\n",
       "      padding: 0 0 0 0;\n",
       "      width: 32px;\n",
       "    }\n",
       "\n",
       "    .colab-df-convert:hover {\n",
       "      background-color: #E2EBFA;\n",
       "      box-shadow: 0px 1px 2px rgba(60, 64, 67, 0.3), 0px 1px 3px 1px rgba(60, 64, 67, 0.15);\n",
       "      fill: #174EA6;\n",
       "    }\n",
       "\n",
       "    .colab-df-buttons div {\n",
       "      margin-bottom: 4px;\n",
       "    }\n",
       "\n",
       "    [theme=dark] .colab-df-convert {\n",
       "      background-color: #3B4455;\n",
       "      fill: #D2E3FC;\n",
       "    }\n",
       "\n",
       "    [theme=dark] .colab-df-convert:hover {\n",
       "      background-color: #434B5C;\n",
       "      box-shadow: 0px 1px 3px 1px rgba(0, 0, 0, 0.15);\n",
       "      filter: drop-shadow(0px 1px 2px rgba(0, 0, 0, 0.3));\n",
       "      fill: #FFFFFF;\n",
       "    }\n",
       "  </style>\n",
       "\n",
       "    <script>\n",
       "      const buttonEl =\n",
       "        document.querySelector('#df-edaed6bc-e47b-4a9f-b62f-a092574f0738 button.colab-df-convert');\n",
       "      buttonEl.style.display =\n",
       "        google.colab.kernel.accessAllowed ? 'block' : 'none';\n",
       "\n",
       "      async function convertToInteractive(key) {\n",
       "        const element = document.querySelector('#df-edaed6bc-e47b-4a9f-b62f-a092574f0738');\n",
       "        const dataTable =\n",
       "          await google.colab.kernel.invokeFunction('convertToInteractive',\n",
       "                                                    [key], {});\n",
       "        if (!dataTable) return;\n",
       "\n",
       "        const docLinkHtml = 'Like what you see? Visit the ' +\n",
       "          '<a target=\"_blank\" href=https://colab.research.google.com/notebooks/data_table.ipynb>data table notebook</a>'\n",
       "          + ' to learn more about interactive tables.';\n",
       "        element.innerHTML = '';\n",
       "        dataTable['output_type'] = 'display_data';\n",
       "        await google.colab.output.renderOutput(dataTable, element);\n",
       "        const docLink = document.createElement('div');\n",
       "        docLink.innerHTML = docLinkHtml;\n",
       "        element.appendChild(docLink);\n",
       "      }\n",
       "    </script>\n",
       "  </div>\n",
       "\n",
       "\n",
       "    <div id=\"df-e167a989-a6de-4cbc-a0a2-0624db956ce1\">\n",
       "      <button class=\"colab-df-quickchart\" onclick=\"quickchart('df-e167a989-a6de-4cbc-a0a2-0624db956ce1')\"\n",
       "                title=\"Suggest charts\"\n",
       "                style=\"display:none;\">\n",
       "\n",
       "<svg xmlns=\"http://www.w3.org/2000/svg\" height=\"24px\"viewBox=\"0 0 24 24\"\n",
       "     width=\"24px\">\n",
       "    <g>\n",
       "        <path d=\"M19 3H5c-1.1 0-2 .9-2 2v14c0 1.1.9 2 2 2h14c1.1 0 2-.9 2-2V5c0-1.1-.9-2-2-2zM9 17H7v-7h2v7zm4 0h-2V7h2v10zm4 0h-2v-4h2v4z\"/>\n",
       "    </g>\n",
       "</svg>\n",
       "      </button>\n",
       "\n",
       "<style>\n",
       "  .colab-df-quickchart {\n",
       "      --bg-color: #E8F0FE;\n",
       "      --fill-color: #1967D2;\n",
       "      --hover-bg-color: #E2EBFA;\n",
       "      --hover-fill-color: #174EA6;\n",
       "      --disabled-fill-color: #AAA;\n",
       "      --disabled-bg-color: #DDD;\n",
       "  }\n",
       "\n",
       "  [theme=dark] .colab-df-quickchart {\n",
       "      --bg-color: #3B4455;\n",
       "      --fill-color: #D2E3FC;\n",
       "      --hover-bg-color: #434B5C;\n",
       "      --hover-fill-color: #FFFFFF;\n",
       "      --disabled-bg-color: #3B4455;\n",
       "      --disabled-fill-color: #666;\n",
       "  }\n",
       "\n",
       "  .colab-df-quickchart {\n",
       "    background-color: var(--bg-color);\n",
       "    border: none;\n",
       "    border-radius: 50%;\n",
       "    cursor: pointer;\n",
       "    display: none;\n",
       "    fill: var(--fill-color);\n",
       "    height: 32px;\n",
       "    padding: 0;\n",
       "    width: 32px;\n",
       "  }\n",
       "\n",
       "  .colab-df-quickchart:hover {\n",
       "    background-color: var(--hover-bg-color);\n",
       "    box-shadow: 0 1px 2px rgba(60, 64, 67, 0.3), 0 1px 3px 1px rgba(60, 64, 67, 0.15);\n",
       "    fill: var(--button-hover-fill-color);\n",
       "  }\n",
       "\n",
       "  .colab-df-quickchart-complete:disabled,\n",
       "  .colab-df-quickchart-complete:disabled:hover {\n",
       "    background-color: var(--disabled-bg-color);\n",
       "    fill: var(--disabled-fill-color);\n",
       "    box-shadow: none;\n",
       "  }\n",
       "\n",
       "  .colab-df-spinner {\n",
       "    border: 2px solid var(--fill-color);\n",
       "    border-color: transparent;\n",
       "    border-bottom-color: var(--fill-color);\n",
       "    animation:\n",
       "      spin 1s steps(1) infinite;\n",
       "  }\n",
       "\n",
       "  @keyframes spin {\n",
       "    0% {\n",
       "      border-color: transparent;\n",
       "      border-bottom-color: var(--fill-color);\n",
       "      border-left-color: var(--fill-color);\n",
       "    }\n",
       "    20% {\n",
       "      border-color: transparent;\n",
       "      border-left-color: var(--fill-color);\n",
       "      border-top-color: var(--fill-color);\n",
       "    }\n",
       "    30% {\n",
       "      border-color: transparent;\n",
       "      border-left-color: var(--fill-color);\n",
       "      border-top-color: var(--fill-color);\n",
       "      border-right-color: var(--fill-color);\n",
       "    }\n",
       "    40% {\n",
       "      border-color: transparent;\n",
       "      border-right-color: var(--fill-color);\n",
       "      border-top-color: var(--fill-color);\n",
       "    }\n",
       "    60% {\n",
       "      border-color: transparent;\n",
       "      border-right-color: var(--fill-color);\n",
       "    }\n",
       "    80% {\n",
       "      border-color: transparent;\n",
       "      border-right-color: var(--fill-color);\n",
       "      border-bottom-color: var(--fill-color);\n",
       "    }\n",
       "    90% {\n",
       "      border-color: transparent;\n",
       "      border-bottom-color: var(--fill-color);\n",
       "    }\n",
       "  }\n",
       "</style>\n",
       "\n",
       "      <script>\n",
       "        async function quickchart(key) {\n",
       "          const quickchartButtonEl =\n",
       "            document.querySelector('#' + key + ' button');\n",
       "          quickchartButtonEl.disabled = true;  // To prevent multiple clicks.\n",
       "          quickchartButtonEl.classList.add('colab-df-spinner');\n",
       "          try {\n",
       "            const charts = await google.colab.kernel.invokeFunction(\n",
       "                'suggestCharts', [key], {});\n",
       "          } catch (error) {\n",
       "            console.error('Error during call to suggestCharts:', error);\n",
       "          }\n",
       "          quickchartButtonEl.classList.remove('colab-df-spinner');\n",
       "          quickchartButtonEl.classList.add('colab-df-quickchart-complete');\n",
       "        }\n",
       "        (() => {\n",
       "          let quickchartButtonEl =\n",
       "            document.querySelector('#df-e167a989-a6de-4cbc-a0a2-0624db956ce1 button');\n",
       "          quickchartButtonEl.style.display =\n",
       "            google.colab.kernel.accessAllowed ? 'block' : 'none';\n",
       "        })();\n",
       "      </script>\n",
       "    </div>\n",
       "\n",
       "    </div>\n",
       "  </div>\n"
      ],
      "text/plain": [
       "   User ID  Recommended item (ID)     Recommended item (name)  \\\n",
       "0        1                   1290                Country Life   \n",
       "1        1                    105                  Sgt. Bilko   \n",
       "2        2                    423  E.T. the Extra-Terrestrial   \n",
       "\n",
       "                                                                            path  \\\n",
       "0  [(self_loop, user, 1), (25, item, 377), (13, entity, 3921), (13, item, 1290)]   \n",
       "1   [(self_loop, user, 1), (25, item, 377), (13, entity, 3921), (13, item, 105)]   \n",
       "2   [(self_loop, user, 2), (25, item, 575), (12, entity, 3937), (18, item, 423)]   \n",
       "\n",
       "                                                                                                                                                                 explanation  \n",
       "0                                                          Country Life is recommended to you because you interacted with Heavyweights also film.film.written_by by m.0368ny  \n",
       "1                                                            Sgt. Bilko is recommended to you because you interacted with Heavyweights also film.film.written_by by m.0368ny  \n",
       "2  E.T. the Extra-Terrestrial is recommended to you because you interacted with City Slickers II: The Legend of Curly's Gold also film.production_company.films by m.0283xx2  "
      ]
     },
     "execution_count": 36,
     "metadata": {},
     "output_type": "execute_result"
    }
   ],
   "source": [
    "final_explanations = get_table_explanations(explanations)\n",
    "final_explanations.head()"
   ]
  },
  {
   "cell_type": "markdown",
   "metadata": {
    "id": "xcbCaLEm3b7U"
   },
   "source": [
    "**Visualizing Explanations for Specific Users**"
   ]
  },
  {
   "cell_type": "markdown",
   "metadata": {
    "id": "RyxgjJWD3b7U"
   },
   "source": [
    "This section filters the final recommendations to show only those related to a specific user, identified by their user ID.\n",
    "\n",
    "First, it displays the filtered recommendations as a pandas **DataFrame** for a quick overview.\n",
    "\n",
    "Then, it iterates through each recommendation and prints them as a **List**.\n",
    "\n",
    "Both approaches allow for a clearer understanding of the reasoning behind each suggestion, using two different reading formats"
   ]
  },
  {
   "cell_type": "markdown",
   "metadata": {
    "id": "H3oQgnaF3b7U"
   },
   "source": [
    "**Pandas Dataframe Visualization**"
   ]
  },
  {
   "cell_type": "code",
   "execution_count": 40,
   "metadata": {
    "colab": {
     "base_uri": "https://localhost:8080/",
     "height": 81
    },
    "id": "mCLdJT983b7U",
    "outputId": "0392559d-d280-4eb2-b799-b676debeee2e"
   },
   "outputs": [
    {
     "data": {
      "application/vnd.google.colaboratory.intrinsic+json": {
       "summary": "{\n  \"name\": \"user_rows\",\n  \"rows\": 1,\n  \"fields\": [\n    {\n      \"column\": \"User ID\",\n      \"properties\": {\n        \"dtype\": \"number\",\n        \"std\": null,\n        \"min\": 2,\n        \"max\": 2,\n        \"num_unique_values\": 1,\n        \"samples\": [\n          2\n        ],\n        \"semantic_type\": \"\",\n        \"description\": \"\"\n      }\n    },\n    {\n      \"column\": \"Recommended item (ID)\",\n      \"properties\": {\n        \"dtype\": \"number\",\n        \"std\": null,\n        \"min\": 423,\n        \"max\": 423,\n        \"num_unique_values\": 1,\n        \"samples\": [\n          423\n        ],\n        \"semantic_type\": \"\",\n        \"description\": \"\"\n      }\n    },\n    {\n      \"column\": \"Recommended item (name)\",\n      \"properties\": {\n        \"dtype\": \"string\",\n        \"num_unique_values\": 1,\n        \"samples\": [\n          \"E.T. the Extra-Terrestrial\"\n        ],\n        \"semantic_type\": \"\",\n        \"description\": \"\"\n      }\n    },\n    {\n      \"column\": \"path\",\n      \"properties\": {\n        \"dtype\": \"object\",\n        \"semantic_type\": \"\",\n        \"description\": \"\"\n      }\n    },\n    {\n      \"column\": \"explanation\",\n      \"properties\": {\n        \"dtype\": \"string\",\n        \"num_unique_values\": 1,\n        \"samples\": [\n          \"E.T. the Extra-Terrestrial is recommended to you because you interacted with City Slickers II: The Legend of Curly's Gold also film.production_company.films by m.0283xx2\"\n        ],\n        \"semantic_type\": \"\",\n        \"description\": \"\"\n      }\n    }\n  ]\n}",
       "type": "dataframe",
       "variable_name": "user_rows"
      },
      "text/html": [
       "\n",
       "  <div id=\"df-49261b42-cb06-4a4e-8d59-07e1eeba99ed\" class=\"colab-df-container\">\n",
       "    <div>\n",
       "<style scoped>\n",
       "    .dataframe tbody tr th:only-of-type {\n",
       "        vertical-align: middle;\n",
       "    }\n",
       "\n",
       "    .dataframe tbody tr th {\n",
       "        vertical-align: top;\n",
       "    }\n",
       "\n",
       "    .dataframe thead th {\n",
       "        text-align: right;\n",
       "    }\n",
       "</style>\n",
       "<table border=\"1\" class=\"dataframe\">\n",
       "  <thead>\n",
       "    <tr style=\"text-align: right;\">\n",
       "      <th></th>\n",
       "      <th>User ID</th>\n",
       "      <th>Recommended item (ID)</th>\n",
       "      <th>Recommended item (name)</th>\n",
       "      <th>path</th>\n",
       "      <th>explanation</th>\n",
       "    </tr>\n",
       "  </thead>\n",
       "  <tbody>\n",
       "    <tr>\n",
       "      <th>2</th>\n",
       "      <td>2</td>\n",
       "      <td>423</td>\n",
       "      <td>E.T. the Extra-Terrestrial</td>\n",
       "      <td>[(self_loop, user, 2), (25, item, 575), (12, entity, 3937), (18, item, 423)]</td>\n",
       "      <td>E.T. the Extra-Terrestrial is recommended to you because you interacted with City Slickers II: The Legend of Curly's Gold also film.production_company.films by m.0283xx2</td>\n",
       "    </tr>\n",
       "  </tbody>\n",
       "</table>\n",
       "</div>\n",
       "    <div class=\"colab-df-buttons\">\n",
       "\n",
       "  <div class=\"colab-df-container\">\n",
       "    <button class=\"colab-df-convert\" onclick=\"convertToInteractive('df-49261b42-cb06-4a4e-8d59-07e1eeba99ed')\"\n",
       "            title=\"Convert this dataframe to an interactive table.\"\n",
       "            style=\"display:none;\">\n",
       "\n",
       "  <svg xmlns=\"http://www.w3.org/2000/svg\" height=\"24px\" viewBox=\"0 -960 960 960\">\n",
       "    <path d=\"M120-120v-720h720v720H120Zm60-500h600v-160H180v160Zm220 220h160v-160H400v160Zm0 220h160v-160H400v160ZM180-400h160v-160H180v160Zm440 0h160v-160H620v160ZM180-180h160v-160H180v160Zm440 0h160v-160H620v160Z\"/>\n",
       "  </svg>\n",
       "    </button>\n",
       "\n",
       "  <style>\n",
       "    .colab-df-container {\n",
       "      display:flex;\n",
       "      gap: 12px;\n",
       "    }\n",
       "\n",
       "    .colab-df-convert {\n",
       "      background-color: #E8F0FE;\n",
       "      border: none;\n",
       "      border-radius: 50%;\n",
       "      cursor: pointer;\n",
       "      display: none;\n",
       "      fill: #1967D2;\n",
       "      height: 32px;\n",
       "      padding: 0 0 0 0;\n",
       "      width: 32px;\n",
       "    }\n",
       "\n",
       "    .colab-df-convert:hover {\n",
       "      background-color: #E2EBFA;\n",
       "      box-shadow: 0px 1px 2px rgba(60, 64, 67, 0.3), 0px 1px 3px 1px rgba(60, 64, 67, 0.15);\n",
       "      fill: #174EA6;\n",
       "    }\n",
       "\n",
       "    .colab-df-buttons div {\n",
       "      margin-bottom: 4px;\n",
       "    }\n",
       "\n",
       "    [theme=dark] .colab-df-convert {\n",
       "      background-color: #3B4455;\n",
       "      fill: #D2E3FC;\n",
       "    }\n",
       "\n",
       "    [theme=dark] .colab-df-convert:hover {\n",
       "      background-color: #434B5C;\n",
       "      box-shadow: 0px 1px 3px 1px rgba(0, 0, 0, 0.15);\n",
       "      filter: drop-shadow(0px 1px 2px rgba(0, 0, 0, 0.3));\n",
       "      fill: #FFFFFF;\n",
       "    }\n",
       "  </style>\n",
       "\n",
       "    <script>\n",
       "      const buttonEl =\n",
       "        document.querySelector('#df-49261b42-cb06-4a4e-8d59-07e1eeba99ed button.colab-df-convert');\n",
       "      buttonEl.style.display =\n",
       "        google.colab.kernel.accessAllowed ? 'block' : 'none';\n",
       "\n",
       "      async function convertToInteractive(key) {\n",
       "        const element = document.querySelector('#df-49261b42-cb06-4a4e-8d59-07e1eeba99ed');\n",
       "        const dataTable =\n",
       "          await google.colab.kernel.invokeFunction('convertToInteractive',\n",
       "                                                    [key], {});\n",
       "        if (!dataTable) return;\n",
       "\n",
       "        const docLinkHtml = 'Like what you see? Visit the ' +\n",
       "          '<a target=\"_blank\" href=https://colab.research.google.com/notebooks/data_table.ipynb>data table notebook</a>'\n",
       "          + ' to learn more about interactive tables.';\n",
       "        element.innerHTML = '';\n",
       "        dataTable['output_type'] = 'display_data';\n",
       "        await google.colab.output.renderOutput(dataTable, element);\n",
       "        const docLink = document.createElement('div');\n",
       "        docLink.innerHTML = docLinkHtml;\n",
       "        element.appendChild(docLink);\n",
       "      }\n",
       "    </script>\n",
       "  </div>\n",
       "\n",
       "\n",
       "    </div>\n",
       "  </div>\n"
      ],
      "text/plain": [
       "   User ID  Recommended item (ID)     Recommended item (name)  \\\n",
       "2        2                    423  E.T. the Extra-Terrestrial   \n",
       "\n",
       "                                                                           path  \\\n",
       "2  [(self_loop, user, 2), (25, item, 575), (12, entity, 3937), (18, item, 423)]   \n",
       "\n",
       "                                                                                                                                                                 explanation  \n",
       "2  E.T. the Extra-Terrestrial is recommended to you because you interacted with City Slickers II: The Legend of Curly's Gold also film.production_company.films by m.0283xx2  "
      ]
     },
     "execution_count": 40,
     "metadata": {},
     "output_type": "execute_result"
    }
   ],
   "source": [
    "# Filter the final_explanations DataFrame to retrieve only the rows where the user ID is \"U10\"\n",
    "user_rows = final_explanations[final_explanations[\"User ID\"] == 2]\n",
    "\n",
    "# Display the filtered rows for user U10\n",
    "user_rows.head(10)"
   ]
  },
  {
   "cell_type": "markdown",
   "metadata": {
    "id": "C8uBE8v73b7U"
   },
   "source": [
    "**List Visualization**"
   ]
  },
  {
   "cell_type": "code",
   "execution_count": 39,
   "metadata": {
    "colab": {
     "base_uri": "https://localhost:8080/"
    },
    "id": "zpwWqKYl3b7V",
    "outputId": "2c36fb41-b414-448d-9f20-f79de161a98e"
   },
   "outputs": [
    {
     "name": "stdout",
     "output_type": "stream",
     "text": [
      "--- 1# recommendation for user 2 ---\n",
      "\n",
      "User ID: 2\n",
      "item ID: 423\n",
      "item name: E.T. the Extra-Terrestrial\n",
      "path: [('self_loop', 'user', 2), (25, 'item', 575), (12, 'entity', 3937), (18, 'item', 423)]\n",
      "explanation:\n",
      "E.T. the Extra-Terrestrial is recommended to you because you interacted with City Slickers II: The Legend of Curly's Gold also film.production_company.films by m.0283xx2\n",
      "\n",
      "----------\n",
      "\n"
     ]
    }
   ],
   "source": [
    "# Set the target user ID or username to inspect their recommendations\n",
    "target_user_id = 2   # You can also use the name\n",
    "\n",
    "# Filter the DataFrame to include only the rows corresponding to the selected user\n",
    "user_recs = final_explanations[final_explanations['User ID'] == target_user_id]\n",
    "\n",
    "# Determine how many recommendations to print (currently prints all for the user) and a maximum of 10\n",
    "n = min(len(user_recs), 10)\n",
    "\n",
    "# Loop through the selected user's recommendations and print details for each\n",
    "for i in range(n):\n",
    "    row = user_recs.iloc[i]\n",
    "\n",
    "    print(f\"--- {i+1}# recommendation for user {row['User ID']} ---\\n\")\n",
    "    print(f\"User ID: {row['User ID']}\")\n",
    "    #print(f\"user name: {row['user name']}\")\n",
    "    print(f\"item ID: {row['Recommended item (ID)']}\")\n",
    "    print(f\"item name: {row['Recommended item (name)']}\")\n",
    "    # print(f\"score: {row['score']} \\n\")\n",
    "    print(f\"path: {row['path']}\")\n",
    "    print(\"explanation:\")\n",
    "    print(row['explanation'])\n",
    "    print(\"\\n----------\\n\")\n"
   ]
  },
  {
   "cell_type": "markdown",
   "metadata": {},
   "source": [
    "# 📄 Copyright Notice\n",
    "\n",
    "This notebook was authored by [**Francesca Maridina Malloci**](https://www.linkedin.com/in/francescamalloci/) for the course  \n",
    "**\"Explainable Artificial Intelligence over Knowledge Graphs: from Reinforcement Learning to Generative Modeling\"**,  \n",
    "held at **Boise State University**, from **July 21 to July 25, 2025**.\n",
    "\n",
    "The material is released exclusively as part of this course to support student learning and study.  \n",
    "All content, including text and original figures, is protected by copyright and may not be reproduced,  \n",
    "distributed, or used without the explicit written permission of the author.\n",
    "\n",
    "Some images were created by the author. Others, sourced from academic literature or online,  \n",
    "are properly cited and credited within the notebook.\n",
    "\n",
    "If you find this material useful for your research, you are kindly invited to cite a related publication:\n",
    "\n",
    "> Balloccu, G., Boratto, L., Fenu, G., Malloci, F. M., & Marras, M. (2024, March).  \n",
    "> *Explainable recommender systems with knowledge graphs and language models*.  \n",
    "> In *European Conference on Information Retrieval* (pp. 352–357). Cham: Springer Nature Switzerland.\n"
   ]
  },
  {
   "cell_type": "markdown",
   "metadata": {
    "id": "SOL3m0ci3b7V"
   },
   "source": [
    "# References"
   ]
  },
  {
   "cell_type": "markdown",
   "metadata": {
    "id": "K1Q2Ykw03b7V"
   },
   "source": [
    "<a name= \"r1\">[1] </a> Balloccu, Giacomo, et al. \"Faithful Path Language Modeling for Explainable Recommendation over Knowledge Graph.\" arXiv preprint arXiv:2310.16452 (2023)."
   ]
  }
 ],
 "metadata": {
  "accelerator": "GPU",
  "colab": {
   "collapsed_sections": [
    "QpQftE8p3b7M"
   ],
   "gpuType": "T4",
   "provenance": [],
   "toc_visible": true
  },
  "kernelspec": {
   "display_name": "Python 3 (ipykernel)",
   "language": "python",
   "name": "python3"
  },
  "language_info": {
   "codemirror_mode": {
    "name": "ipython",
    "version": 3
   },
   "file_extension": ".py",
   "mimetype": "text/x-python",
   "name": "python",
   "nbconvert_exporter": "python",
   "pygments_lexer": "ipython3",
   "version": "3.12.7"
  }
 },
 "nbformat": 4,
 "nbformat_minor": 4
}
