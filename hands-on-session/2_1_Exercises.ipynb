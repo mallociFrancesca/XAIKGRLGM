{
 "cells": [
  {
   "cell_type": "markdown",
   "metadata": {
    "id": "HBOPBvvsytzB"
   },
   "source": [
    "# \ud83d\udee0\ufe0f Practical Exercises"
   ]
  },
  {
   "cell_type": "markdown",
   "metadata": {
    "id": "TYOcqOWmyxqg"
   },
   "source": [
    "* 1\ufe0f\u20e3 Training the TransH Model with Hopwise\n",
    "* 2\ufe0f\u20e3 Answering Lesson 2's quiz"
   ]
  },
  {
   "cell_type": "markdown",
   "metadata": {
    "jp-MarkdownHeadingCollapsed": true
   },
   "source": [
    "## 1\ufe0f\u20e3 Training the TransH Model with Hopwise"
   ]
  },
  {
   "cell_type": "markdown",
   "metadata": {},
   "source": [
    "**Task:**\n",
    "\n",
    "Write the code to train a **TransH knowledge graph embedding model** using the Hopwise library.\n",
    "\n",
    "Your script should include the following elements:\n",
    "\n",
    "* Import the required libraries\n",
    "* Use the ml-100k dataset\n",
    "* Specify the number of training epochs\n",
    "* Define the embedding dimension (`embedding_size`)\n",
    "* Set the output directory where the trained model will be saved\n",
    "* Train the model\n",
    "  "
   ]
  },
  {
   "cell_type": "code",
   "execution_count": 24,
   "metadata": {},
   "outputs": [],
   "source": [
    "# Write the answer here\n",
    "\n",
    "# Import libraries\n",
    "\n",
    "# Define configurations\n",
    "\n",
    "# Train the model\n",
    "\n"
   ]
  },
  {
   "cell_type": "code",
   "execution_count": null,
   "metadata": {},
   "outputs": [],
   "source": [
    "from hopwise.quick_start import run_hopwise\n",
    "\n",
    "# Define the model and dataset to use\n",
    "model = 'TransH'\n",
    "dataset = 'ml-100k'\n",
    "\n",
    "# Custom configuration dictionary\n",
    "config_dict = {\n",
    "     # 'gpu_id': 0,  # GPU device ID to use \n",
    "    'epochs': 1,  # Number of training epochs\n",
    "    'data_path': '/content/drive/MyDrive/XAIKGRLGM/data/dataset/',  # Path to the dataset\n",
    "    'checkpoint_dir':'/content/drive/MyDrive/XAIKGRLGM/data/checkpoint/',  # Directory to save model checkpoints\n",
    "}\n",
    "\n",
    "# Train the model\n",
    "run_hopwise(model=model,\n",
    "            dataset=dataset,\n",
    "            config_dict=config_dict)"
   ]
  },
  {
   "cell_type": "markdown",
   "metadata": {},
   "source": [
    "## 2\ufe0f\u20e3 Answering Lesson 2's quiz"
   ]
  },
  {
   "cell_type": "markdown",
   "metadata": {},
   "source": [
    "Link: https://forms.office.com/e/0N52W7xjPc?origin=lprLink"
   ]
  },
  {
   "cell_type": "code",
   "execution_count": null,
   "metadata": {},
   "outputs": [],
   "source": []
  }
 ],
 "metadata": {
  "accelerator": "GPU",
  "colab": {
   "gpuType": "T4",
   "provenance": []
  },
  "kernelspec": {
   "display_name": "Python 3 (ipykernel)",
   "language": "python",
   "name": "python3"
  },
  "language_info": {
   "codemirror_mode": {
    "name": "ipython",
    "version": 3
   },
   "file_extension": ".py",
   "mimetype": "text/x-python",
   "name": "python",
   "nbconvert_exporter": "python",
   "pygments_lexer": "ipython3",
   "version": "3.12.7"
  }
 },
 "nbformat": 4,
 "nbformat_minor": 4
}