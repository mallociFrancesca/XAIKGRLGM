{
 "cells": [
  {
   "cell_type": "markdown",
   "id": "ef59c668-21e2-422f-9e6c-462a25314255",
   "metadata": {
    "id": "ef59c668-21e2-422f-9e6c-462a25314255"
   },
   "source": [
    "# Introduction to Huggig Face"
   ]
  },
  {
   "cell_type": "markdown",
   "id": "bf7194ad-2452-41ab-9088-ac664b4ce80a",
   "metadata": {
    "id": "bf7194ad-2452-41ab-9088-ac664b4ce80a"
   },
   "source": [
    "In this notebook, you will learn how to setup and use the Hugging Face Transformer library."
   ]
  },
  {
   "cell_type": "markdown",
   "id": "d0e9a98c-f572-4ddf-9a9a-cdc65bba7522",
   "metadata": {
    "id": "d0e9a98c-f572-4ddf-9a9a-cdc65bba7522"
   },
   "source": [
    "### \u2699\ufe0f Setup Workspace"
   ]
  },
  {
   "cell_type": "markdown",
   "id": "3e95a8f6-7510-437f-a3c0-023e1f1c2fa1",
   "metadata": {
    "id": "3e95a8f6-7510-437f-a3c0-023e1f1c2fa1"
   },
   "source": [
    "We start with setting up the workspace by installing the transformers library and ignoring the warnings."
   ]
  },
  {
   "cell_type": "code",
   "execution_count": 2,
   "id": "ibVN98lxCMk3",
   "metadata": {
    "colab": {
     "base_uri": "https://localhost:8080/"
    },
    "id": "ibVN98lxCMk3",
    "outputId": "c7ef906e-10b8-4f5b-c613-d6b6c966f9a1"
   },
   "outputs": [
    {
     "name": "stdout",
     "output_type": "stream",
     "text": [
      "Mounted at /content/drive\n"
     ]
    }
   ],
   "source": [
    "from google.colab import drive\n",
    "drive.mount('/content/drive')"
   ]
  },
  {
   "cell_type": "code",
   "execution_count": null,
   "id": "c870550a-3ddb-410e-b008-efe5c359cdf5",
   "metadata": {
    "id": "c870550a-3ddb-410e-b008-efe5c359cdf5"
   },
   "outputs": [],
   "source": [
    "!pip install transformers\n",
    "!pip install torch\n",
    "!pip install tensorflow\n",
    "!pip install tf-keras\n",
    "!pip install accelerate"
   ]
  },
  {
   "cell_type": "code",
   "execution_count": null,
   "id": "8a3c6c3b-eb50-4657-b0f1-02b7f6b3d094",
   "metadata": {
    "id": "8a3c6c3b-eb50-4657-b0f1-02b7f6b3d094"
   },
   "outputs": [],
   "source": [
    "# Warning control\n",
    "import warnings\n",
    "warnings.filterwarnings('ignore')"
   ]
  },
  {
   "cell_type": "markdown",
   "id": "f5110aa7-3fc1-45b4-932a-e7be48833302",
   "metadata": {
    "id": "f5110aa7-3fc1-45b4-932a-e7be48833302"
   },
   "source": [
    "### \ud83e\udd17 What is Hugging Face?"
   ]
  },
  {
   "cell_type": "markdown",
   "id": "d8e6dc40-e07b-4d83-9629-8638cf18cfb2",
   "metadata": {
    "id": "d8e6dc40-e07b-4d83-9629-8638cf18cfb2"
   },
   "source": [
    "A major hub for open-source machine learning (ML) [1] [4]"
   ]
  },
  {
   "cell_type": "markdown",
   "id": "fa2a6ae3-cda7-4d88-973e-27806c82a583",
   "metadata": {
    "colab": {
     "base_uri": "https://localhost:8080/",
     "height": 398
    },
    "id": "bbsS-EXCCCtJ",
    "outputId": "e057e4c2-7437-4968-9dbe-14f023ba9e9d"
   },
   "source": [
    "<img src=\"https://raw.githubusercontent.com/mallociFrancesca/XAIKGRLGM/a77f9ea5633475efe43038ef2a11e1341342e0ef/hands-on-session/hugging-face-datasets-models-spaces.png\" alt=\"Hugging Face Datasets, Models, and Spaces\" width=\"600\">\n"
   ]
  },
  {
   "cell_type": "markdown",
   "id": "a9470000-3cc9-4c79-8110-05dc36e0c93a",
   "metadata": {
    "id": "a9470000-3cc9-4c79-8110-05dc36e0c93a"
   },
   "source": [
    "\n",
    "- **Datasets**:  \n",
    "  Preprocessed datasets ready to be used in machine learning projects. They contain various types of data, such as text, audio, and images, and are essential for training and evaluating AI models.\n",
    "  \n",
    "- **Models**:  \n",
    "  Pre-trained versions of artificial intelligence algorithms that you can use to perform specific tasks, such as text translation, sentiment classification, text generation, among others. Hugging Face hosts over half a million models, which are easily accessible and deployable in your applications.\n",
    "\n",
    "\n",
    "- **Spaces**:  \n",
    "  Collaborative environments where users can share and work together on AI projects. You can create a space to host your AI model and make it available for use by third parties \u2014 all quickly and without additional costs for the most basic setup.\n",
    "\n"
   ]
  },
  {
   "cell_type": "markdown",
   "id": "9f456ef3-e796-4dff-a574-383b29506202",
   "metadata": {
    "id": "9f456ef3-e796-4dff-a574-383b29506202"
   },
   "source": [
    "### \ud83e\udd16 The Transformers Library"
   ]
  },
  {
   "cell_type": "markdown",
   "id": "0a3f935b-7135-46b9-b4ba-e835e968270a",
   "metadata": {
    "colab": {
     "base_uri": "https://localhost:8080/",
     "height": 179
    },
    "id": "2X1Uz0-FCUQF",
    "outputId": "31f0bfbe-9ebd-41a7-88c1-b4a606d5248b"
   },
   "source": [
    "<img src=\"https://raw.githubusercontent.com/mallociFrancesca/XAIKGRLGM/a77f9ea5633475efe43038ef2a11e1341342e0ef/hands-on-session/transformers.png\" alt=\"Transformers Diagram\" width=\"600\" height=\"250\">\n"
   ]
  },
  {
   "cell_type": "markdown",
   "id": "ebca0474-7ca4-4263-9bff-c129f2f59772",
   "metadata": {
    "id": "ebca0474-7ca4-4263-9bff-c129f2f59772"
   },
   "source": [
    "The `Transformers Library` is an open-source library that provides a vast array of state-of-the-art pretrained models.\n",
    "\n",
    "Thus, beginners, professionals and researchers can easily use cutting-edge models in their projects.\n",
    "\n",
    "Strengths:\n",
    "* It's well integrated with Hugging Face's Models, Datasets and Spaces services\n",
    "* It\u2019s built on PyTorch and TensorFlow."
   ]
  },
  {
   "cell_type": "markdown",
   "id": "06106345-79d2-459e-b3bc-c8cde8938211",
   "metadata": {
    "id": "06106345-79d2-459e-b3bc-c8cde8938211"
   },
   "source": [
    "### \ud83e\uddea Pipeline()"
   ]
  },
  {
   "cell_type": "markdown",
   "id": "dc5a2630-e652-4210-8f15-841c43ea2cb5",
   "metadata": {
    "id": "dc5a2630-e652-4210-8f15-841c43ea2cb5"
   },
   "source": [
    "In this section, you will classify the sentence `\"Boise is a beautiful city \ud83e\udd17\"` using the classifier [`distilbert-base-uncased-finetuned-sst-2-english` model](https://huggingface.co/distilbert/distilbert-base-uncased-finetuned-sst-2-english).\n",
    "\n",
    "Let's import the `Piepline` class, define the sentence to classify, and instantiate the classifier."
   ]
  },
  {
   "cell_type": "markdown",
   "id": "804c9ca8-c481-46aa-b8f0-480be39651c8",
   "metadata": {
    "id": "804c9ca8-c481-46aa-b8f0-480be39651c8"
   },
   "source": [
    "<p style=\"background-color:#fff1d7; padding:15px; \"> <b>\ud83d\udca1 </b> The <b>pipeline</b> class is an abstraction that helps you to use machine learning models for tasks like text generation, translation, or sentiment analysis.  <br>\n",
    "    It hides all the complicated details and lets you get results with just a few lines of code. You don\u2019t need to understand how the model works inside \u2014 the pipeline takes care of all the steps for you.</p>"
   ]
  },
  {
   "cell_type": "markdown",
   "id": "d8400545-1b85-48b7-aa84-70db5fc26b48",
   "metadata": {
    "id": "d8400545-1b85-48b7-aa84-70db5fc26b48"
   },
   "source": [
    "**Pipeline**"
   ]
  },
  {
   "cell_type": "code",
   "execution_count": null,
   "id": "ab8677bc-ff80-4a88-833f-f8cda2dfe1bf",
   "metadata": {
    "id": "ab8677bc-ff80-4a88-833f-f8cda2dfe1bf"
   },
   "outputs": [],
   "source": [
    "from transformers import pipeline"
   ]
  },
  {
   "cell_type": "code",
   "execution_count": null,
   "id": "ee61d4b7-4852-4003-a69b-beb8cdc78123",
   "metadata": {
    "id": "ee61d4b7-4852-4003-a69b-beb8cdc78123"
   },
   "outputs": [],
   "source": [
    "# Define the sentences to classify\n",
    "sentence1 = \"Boise is a beautiful city \ud83e\udd17\"\n",
    "sentence2 = \"I hate christmas\""
   ]
  },
  {
   "cell_type": "code",
   "execution_count": null,
   "id": "7096186f-6546-47a4-972f-bdd6df26c77a",
   "metadata": {
    "id": "7096186f-6546-47a4-972f-bdd6df26c77a",
    "outputId": "bff8a45b-8513-4143-d3d7-c54a4fc1fb62"
   },
   "outputs": [
    {
     "name": "stderr",
     "output_type": "stream",
     "text": [
      "Device set to use cpu\n"
     ]
    }
   ],
   "source": [
    "# Load the pretrained classifier\n",
    "classifier = pipeline(task=\"sentiment-analysis\", model=\"distilbert/distilbert-base-uncased-finetuned-sst-2-english\")"
   ]
  },
  {
   "cell_type": "code",
   "execution_count": null,
   "id": "9da775c0-5bfc-4039-8c2a-726fcdbcc2af",
   "metadata": {
    "id": "9da775c0-5bfc-4039-8c2a-726fcdbcc2af",
    "outputId": "4680b466-6fd0-4a21-88f8-bfdbb894cd1b"
   },
   "outputs": [
    {
     "data": {
      "text/plain": [
       "[{'label': 'POSITIVE', 'score': 0.999821126461029}]"
      ]
     },
     "execution_count": 52,
     "metadata": {},
     "output_type": "execute_result"
    }
   ],
   "source": [
    "# Use the classifier to analyze the sentence and return the predicted emotion\n",
    "classifier(sentence1)"
   ]
  },
  {
   "cell_type": "code",
   "execution_count": null,
   "id": "c78cbbba-c13d-4c37-841a-f78e32159c23",
   "metadata": {
    "id": "c78cbbba-c13d-4c37-841a-f78e32159c23",
    "outputId": "d05e3c1b-6afd-4b1b-8e3a-cb51bb220ebf"
   },
   "outputs": [
    {
     "data": {
      "text/plain": [
       "[{'label': 'NEGATIVE', 'score': 0.9978455305099487}]"
      ]
     },
     "execution_count": 56,
     "metadata": {},
     "output_type": "execute_result"
    }
   ],
   "source": [
    "classifier(sentence2)"
   ]
  },
  {
   "cell_type": "markdown",
   "id": "bb29e722-4bb2-4f4f-866c-c3f415b14807",
   "metadata": {
    "id": "bb29e722-4bb2-4f4f-866c-c3f415b14807"
   },
   "source": [
    "**Batch prediction**"
   ]
  },
  {
   "cell_type": "code",
   "execution_count": null,
   "id": "b7ff82e3-9222-4194-9817-1dffe213dc30",
   "metadata": {
    "id": "b7ff82e3-9222-4194-9817-1dffe213dc30",
    "outputId": "74d0cecb-8ec8-4673-b763-0c9445a33059"
   },
   "outputs": [
    {
     "name": "stdout",
     "output_type": "stream",
     "text": [
      "label: POSITIVE, with score: 0.9998\n",
      "label: NEGATIVE, with score: 0.9978\n"
     ]
    }
   ],
   "source": [
    "# Pass a list of sentences to the classifier to get batch predictions\n",
    "results = classifier([sentence1,\\\n",
    "                      sentence2])\n",
    "for result in results:\n",
    "    print(f\"label: {result['label']}, with score: {round(result['score'], 4)}\")"
   ]
  },
  {
   "cell_type": "markdown",
   "id": "bce4ddcd-732c-4f23-8272-79f17f702e47",
   "metadata": {
    "id": "bce4ddcd-732c-4f23-8272-79f17f702e47"
   },
   "source": [
    "# References"
   ]
  },
  {
   "cell_type": "markdown",
   "id": "b732e608-9da9-44af-b23c-0e4d9402fb0f",
   "metadata": {
    "id": "b732e608-9da9-44af-b23c-0e4d9402fb0f"
   },
   "source": [
    "[1] https://www.scalablepath.com/machine-learning/hugging-face\n",
    "\n",
    "[2] https://huggingface.co/docs/transformers/installation\n",
    "\n",
    "[3] https://huggingface.co/distilbert/distilbert-base-uncased-finetuned-sst-2-english\n",
    "\n",
    "[4] https://cdn-blog.scalablepath.com/uploads/2024/06/hugging-face-datasets-models-spaces.png?_gl=1*emp358*_gcl_au*MTUxODc2MTUxOC4xNzQ5NjU5NzIw"
   ]
  },
  {
   "cell_type": "code",
   "execution_count": null,
   "id": "3f8daa4e-53f6-4951-bc12-3ec023c9097b",
   "metadata": {
    "id": "3f8daa4e-53f6-4951-bc12-3ec023c9097b"
   },
   "outputs": [],
   "source": []
  }
 ],
 "metadata": {
  "colab": {
   "provenance": [],
   "toc_visible": true
  },
  "kernelspec": {
   "display_name": "Python 3 (ipykernel)",
   "language": "python",
   "name": "python3"
  },
  "language_info": {
   "codemirror_mode": {
    "name": "ipython",
    "version": 3
   },
   "file_extension": ".py",
   "mimetype": "text/x-python",
   "name": "python",
   "nbconvert_exporter": "python",
   "pygments_lexer": "ipython3",
   "version": "3.12.7"
  }
 },
 "nbformat": 4,
 "nbformat_minor": 5
}